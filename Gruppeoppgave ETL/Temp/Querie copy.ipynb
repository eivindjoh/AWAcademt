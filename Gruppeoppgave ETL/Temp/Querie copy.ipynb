{
 "cells": [
  {
   "cell_type": "code",
   "execution_count": 1,
   "metadata": {},
   "outputs": [
    {
     "name": "stdout",
     "output_type": "stream",
     "text": [
      "461.646\n"
     ]
    }
   ],
   "source": [
    "from Co2_per_flight import add_emissions_to_flight\n",
    "from Co2emissionsRoad import add_car_emissions\n",
    "from SQL_data import get_table_from_db, write_to_emission_db\n",
    "import pandas as pd"
   ]
  },
  {
   "cell_type": "code",
   "execution_count": 3,
   "metadata": {},
   "outputs": [],
   "source": [
    "# flights = flight_id(\"flightdata.json\") # Input fra Avinor API\n",
    "distance_id = pd.DataFrame(get_table_from_db(\"distance\"), columns=[\"distance_id\", \"airport_dep\", \"airport_arr\"])\n",
    "flights = distance_id.to_dict(\"records\")\n",
    "flights_with_emissions = add_emissions_to_flight(flights)\n",
    "flights_with_car_emissions = add_car_emissions(flights_with_emissions)\n",
    "\n",
    "df = pd.DataFrame(flights_with_car_emissions)"
   ]
  },
  {
   "cell_type": "code",
   "execution_count": 4,
   "metadata": {},
   "outputs": [],
   "source": [
    "df_copy = df.copy()"
   ]
  },
  {
   "cell_type": "code",
   "execution_count": 5,
   "metadata": {},
   "outputs": [],
   "source": [
    "df_copy = df_copy.drop(df_copy[(df_copy[\"airport_dep\"] == \"OSL\") & (df_copy[\"airport_arr\"] == \"OSL\")].index)"
   ]
  },
  {
   "cell_type": "code",
   "execution_count": 6,
   "metadata": {},
   "outputs": [],
   "source": [
    "# Adds Co2 emissions for the other direction\n",
    "df_flip = df_copy.copy()\n",
    "df_flip[\"airport_dep\"] = df_copy[\"airport_arr\"]\n",
    "df_flip[\"airport_arr\"] = df_copy[\"airport_dep\"]"
   ]
  },
  {
   "cell_type": "code",
   "execution_count": 7,
   "metadata": {},
   "outputs": [],
   "source": [
    "df_final = pd.concat([df_copy, df_flip], axis=0, ignore_index=True)"
   ]
  },
  {
   "cell_type": "code",
   "execution_count": 8,
   "metadata": {},
   "outputs": [],
   "source": [
    "df_final = df_final.sort_values([\"airport_dep\", \"airport_arr\"])"
   ]
  },
  {
   "cell_type": "code",
   "execution_count": 9,
   "metadata": {},
   "outputs": [],
   "source": [
    "df_final = df_final.drop_duplicates(subset=[\"airport_dep\", \"airport_arr\"], keep=\"first\")\n"
   ]
  },
  {
   "cell_type": "code",
   "execution_count": 10,
   "metadata": {},
   "outputs": [],
   "source": [
    "# \n",
    "emissions = df_final.to_dict(\"records\")"
   ]
  },
  {
   "cell_type": "code",
   "execution_count": 11,
   "metadata": {},
   "outputs": [],
   "source": [
    "write_to_emission_db(emissions)"
   ]
  }
 ],
 "metadata": {
  "kernelspec": {
   "display_name": "Python 3.10.4 64-bit",
   "language": "python",
   "name": "python3"
  },
  "language_info": {
   "codemirror_mode": {
    "name": "ipython",
    "version": 3
   },
   "file_extension": ".py",
   "mimetype": "text/x-python",
   "name": "python",
   "nbconvert_exporter": "python",
   "pygments_lexer": "ipython3",
   "version": "3.10.4"
  },
  "orig_nbformat": 4,
  "vscode": {
   "interpreter": {
    "hash": "26de051ba29f2982a8de78e945f0abaf191376122a1563185a90213a26c5da77"
   }
  }
 },
 "nbformat": 4,
 "nbformat_minor": 2
}
