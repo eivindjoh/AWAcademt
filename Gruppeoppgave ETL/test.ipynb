{
 "cells": [
  {
   "cell_type": "code",
   "execution_count": 8,
   "metadata": {},
   "outputs": [],
   "source": [
    "from Co2_per_flight import add_emissions_to_flight\n",
    "import pandas as pd\n",
    "import json\n",
    "\n",
    "flights = [{0: {\"flight_id\": \"A377\", \"airport_dep\": \"BER\", \"airport_arr\": \"HAM\"}}, {1: {\"flight_id\": \"A3757\", \"airport_dep\": \"OSL\", \"airport_arr\": \"ATH\"}}]\n",
    "\n",
    "to_dataframe = []\n",
    "for count, flight in enumerate(add_emissions_to_flight(flights)):\n",
    "    to_dataframe.append(flight[count])\n",
    "\n",
    "df = pd.DataFrame(to_dataframe)"
   ]
  },
  {
   "cell_type": "code",
   "execution_count": 9,
   "metadata": {},
   "outputs": [
    {
     "data": {
      "text/html": [
       "<div>\n",
       "<style scoped>\n",
       "    .dataframe tbody tr th:only-of-type {\n",
       "        vertical-align: middle;\n",
       "    }\n",
       "\n",
       "    .dataframe tbody tr th {\n",
       "        vertical-align: top;\n",
       "    }\n",
       "\n",
       "    .dataframe thead th {\n",
       "        text-align: right;\n",
       "    }\n",
       "</style>\n",
       "<table border=\"1\" class=\"dataframe\">\n",
       "  <thead>\n",
       "    <tr style=\"text-align: right;\">\n",
       "      <th></th>\n",
       "      <th>flight_id</th>\n",
       "      <th>airport_dep</th>\n",
       "      <th>airport_arr</th>\n",
       "      <th>unknown</th>\n",
       "      <th>economy</th>\n",
       "      <th>business</th>\n",
       "      <th>first</th>\n",
       "    </tr>\n",
       "  </thead>\n",
       "  <tbody>\n",
       "    <tr>\n",
       "      <th>0</th>\n",
       "      <td>A377</td>\n",
       "      <td>BER</td>\n",
       "      <td>HAM</td>\n",
       "      <td>58.433046</td>\n",
       "      <td>58.433046</td>\n",
       "      <td>58.433046</td>\n",
       "      <td>58.433046</td>\n",
       "    </tr>\n",
       "    <tr>\n",
       "      <th>1</th>\n",
       "      <td>A3757</td>\n",
       "      <td>OSL</td>\n",
       "      <td>ATH</td>\n",
       "      <td>483.841820</td>\n",
       "      <td>370.562439</td>\n",
       "      <td>1074.586278</td>\n",
       "      <td>1482.223406</td>\n",
       "    </tr>\n",
       "  </tbody>\n",
       "</table>\n",
       "</div>"
      ],
      "text/plain": [
       "  flight_id airport_dep airport_arr     unknown     economy     business  \\\n",
       "0      A377         BER         HAM   58.433046   58.433046    58.433046   \n",
       "1     A3757         OSL         ATH  483.841820  370.562439  1074.586278   \n",
       "\n",
       "         first  \n",
       "0    58.433046  \n",
       "1  1482.223406  "
      ]
     },
     "execution_count": 9,
     "metadata": {},
     "output_type": "execute_result"
    }
   ],
   "source": [
    "df"
   ]
  },
  {
   "cell_type": "code",
   "execution_count": null,
   "metadata": {},
   "outputs": [],
   "source": []
  }
 ],
 "metadata": {
  "kernelspec": {
   "display_name": "Python 3.10.4 64-bit",
   "language": "python",
   "name": "python3"
  },
  "language_info": {
   "codemirror_mode": {
    "name": "ipython",
    "version": 3
   },
   "file_extension": ".py",
   "mimetype": "text/x-python",
   "name": "python",
   "nbconvert_exporter": "python",
   "pygments_lexer": "ipython3",
   "version": "3.10.4"
  },
  "orig_nbformat": 4,
  "vscode": {
   "interpreter": {
    "hash": "26de051ba29f2982a8de78e945f0abaf191376122a1563185a90213a26c5da77"
   }
  }
 },
 "nbformat": 4,
 "nbformat_minor": 2
}
