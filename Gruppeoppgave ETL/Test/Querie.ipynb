{
 "cells": [
  {
   "cell_type": "code",
   "execution_count": 1,
   "metadata": {},
   "outputs": [],
   "source": [
    "from Flight_id import flight_id\n",
    "from Co2_per_flight import add_emissions_to_flight\n",
    "import pandas as pd\n",
    "\n",
    "flights = flight_id(\"flightdata.json\") # Input fra Avinor API\n",
    "flights_with_emissions = add_emissions_to_flight(flights)\n",
    "\n",
    "df = pd.DataFrame(flights_with_emissions)"
   ]
  }
 ],
 "metadata": {
  "kernelspec": {
   "display_name": "Python 3.10.4 64-bit",
   "language": "python",
   "name": "python3"
  },
  "language_info": {
   "codemirror_mode": {
    "name": "ipython",
    "version": 3
   },
   "file_extension": ".py",
   "mimetype": "text/x-python",
   "name": "python",
   "nbconvert_exporter": "python",
   "pygments_lexer": "ipython3",
   "version": "3.10.4"
  },
  "orig_nbformat": 4,
  "vscode": {
   "interpreter": {
    "hash": "26de051ba29f2982a8de78e945f0abaf191376122a1563185a90213a26c5da77"
   }
  }
 },
 "nbformat": 4,
 "nbformat_minor": 2
}
