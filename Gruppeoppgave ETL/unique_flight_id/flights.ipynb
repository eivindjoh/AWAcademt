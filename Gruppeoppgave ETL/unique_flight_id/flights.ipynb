{
 "cells": [
  {
   "cell_type": "code",
   "execution_count": 3,
   "metadata": {},
   "outputs": [],
   "source": [
    "import json\n",
    "import pandas as pd\n",
    "\n",
    "def flight_id(flightdata:dict) -> dict:\n",
    "    \"\"\"_summary_\n",
    "\n",
    "    Args:\n",
    "        flightdata (dict): json path\n",
    "\n",
    "    Returns:\n",
    "        dict: example: {\"1\": {\"flight_id\": A3757, \"airport_dep\": \"OSL\", \"airport_arr\": \"ATH\"}}\n",
    "    \"\"\"\n",
    "    with open(flightdata, \"r\") as fp:\n",
    "        flightdata = json.load(fp)\n",
    "        flights = flightdata[\"airport\"][\"flights\"][\"flight\"]\n",
    "        \n",
    "        flight_id_airport = {}\n",
    "\n",
    "        for count, flight in enumerate(flights):\n",
    "            flight_id = flight[\"flight_id\"]\n",
    "\n",
    "            if flight[\"arr_dep\"] == \"D\":\n",
    "                airport_arr = flight[\"airport\"]\n",
    "                airport_dep = \"OSL\"\n",
    "                flight_id_airport[f\"{count}\"] = {\n",
    "                                                \"flight_id\": flight_id, \n",
    "                                                \"airport_dep\": airport_dep,\n",
    "                                                \"airport_arr\": airport_arr\n",
    "                                                }\n",
    "            elif flight[\"arr_dep\"] == \"A\":\n",
    "                airport_arr = \"OSL\"\n",
    "                airport_dep = flight[\"airport\"]\n",
    "                flight_id_airport[f\"{count}\"] = {\n",
    "                                                \"flight_id\": flight_id, \n",
    "                                                \"airport_dep\": airport_dep,\n",
    "                                                \"airport_arr\": airport_arr\n",
    "                                                }\n",
    "\n",
    "            return flight_id_airport"
   ]
  },
  {
   "cell_type": "code",
   "execution_count": null,
   "metadata": {},
   "outputs": [],
   "source": []
  }
 ],
 "metadata": {
  "kernelspec": {
   "display_name": "Python 3.10.4 64-bit",
   "language": "python",
   "name": "python3"
  },
  "language_info": {
   "codemirror_mode": {
    "name": "ipython",
    "version": 3
   },
   "file_extension": ".py",
   "mimetype": "text/x-python",
   "name": "python",
   "nbconvert_exporter": "python",
   "pygments_lexer": "ipython3",
   "version": "3.10.4"
  },
  "orig_nbformat": 4,
  "vscode": {
   "interpreter": {
    "hash": "26de051ba29f2982a8de78e945f0abaf191376122a1563185a90213a26c5da77"
   }
  }
 },
 "nbformat": 4,
 "nbformat_minor": 2
}
