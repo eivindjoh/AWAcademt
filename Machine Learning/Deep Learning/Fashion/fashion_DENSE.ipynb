{
 "cells": [
  {
   "cell_type": "code",
   "execution_count": 1,
   "metadata": {},
   "outputs": [
    {
     "data": {
      "text/plain": [
       "True"
      ]
     },
     "execution_count": 1,
     "metadata": {},
     "output_type": "execute_result"
    }
   ],
   "source": [
    "import numpy as np\n",
    "import matplotlib.pyplot as plt\n",
    "import tensorflow as tf\n",
    "from keras import activations, regularizers\n",
    "from keras.layers import Dense, Input, Concatenate, Dropout, LSTM\n",
    "from keras.models import Model, Sequential\n",
    "from sklearn.model_selection import train_test_split\n",
    "import numpy as np\n",
    "tf.executing_eagerly()"
   ]
  },
  {
   "cell_type": "code",
   "execution_count": 3,
   "metadata": {},
   "outputs": [],
   "source": [
    "X_train =  np.load('train_images.npy', allow_pickle=True)\n",
    "y_train =  np.load('train_labels.npy', allow_pickle=True)"
   ]
  },
  {
   "cell_type": "code",
   "execution_count": 4,
   "metadata": {},
   "outputs": [],
   "source": [
    "class_names = ['T-shirt/top', 'Trouser', 'Pullover', 'Dress', 'Coat',\n",
    "               'Sandal', 'Shirt', 'Sneaker', 'Bag', 'Ankle boot']"
   ]
  },
  {
   "cell_type": "code",
   "execution_count": 5,
   "metadata": {},
   "outputs": [
    {
     "name": "stdout",
     "output_type": "stream",
     "text": [
      "This is a T-shirt/top\n"
     ]
    },
    {
     "data": {
      "image/png": "[encoded data removed]",
      "text/plain": [
       "<Figure size 432x288 with 1 Axes>"
      ]
     },
     "metadata": {
      "needs_background": "light"
     },
     "output_type": "display_data"
    }
   ],
   "source": [
    "# show image\n",
    "data_idx = 1\n",
    "plt.imshow(X_train[data_idx,:,:]/255, cmap='binary')\n",
    "class_number = y_train[data_idx]\n",
    "class_text = class_names[class_number]\n",
    "print(f'This is a {class_text}')"
   ]
  },
  {
   "cell_type": "code",
   "execution_count": 6,
   "metadata": {},
   "outputs": [],
   "source": [
    "# data prep\n",
    "X_train = X_train/255\n",
    "X_train = X_train.reshape(-1, 784)\n",
    "y_train_ohe = np.zeros((68000, 10))"
   ]
  },
  {
   "cell_type": "code",
   "execution_count": 7,
   "metadata": {},
   "outputs": [],
   "source": [
    "for count, row in enumerate(y_train_ohe):\n",
    "    row[y_train[count]] = 1"
   ]
  },
  {
   "cell_type": "code",
   "execution_count": 8,
   "metadata": {},
   "outputs": [],
   "source": [
    "X_train, X_test, y_train, y_test = train_test_split(X_train, y_train_ohe, test_size=0.2, random_state=101)\n",
    "# y_train = y_train_ohe"
   ]
  },
  {
   "cell_type": "code",
   "execution_count": 49,
   "metadata": {},
   "outputs": [
    {
     "name": "stdout",
     "output_type": "stream",
     "text": [
      "Epoch 1/20\n",
      "850/850 [==============================] - 15s 17ms/step - loss: 0.5686 - accuracy: 0.7922 - val_loss: 0.4273 - val_accuracy: 0.8399\n",
      "Epoch 2/20\n",
      "850/850 [==============================] - 14s 17ms/step - loss: 0.4213 - accuracy: 0.8465 - val_loss: 0.3722 - val_accuracy: 0.8624\n",
      "Epoch 3/20\n",
      "850/850 [==============================] - 14s 17ms/step - loss: 0.3781 - accuracy: 0.8620 - val_loss: 0.3750 - val_accuracy: 0.8610\n",
      "Epoch 4/20\n",
      "850/850 [==============================] - 14s 16ms/step - loss: 0.3593 - accuracy: 0.8686 - val_loss: 0.3389 - val_accuracy: 0.8750\n",
      "Epoch 5/20\n",
      "850/850 [==============================] - 14s 17ms/step - loss: 0.3369 - accuracy: 0.8757 - val_loss: 0.3400 - val_accuracy: 0.8754\n",
      "Epoch 6/20\n",
      "850/850 [==============================] - 14s 16ms/step - loss: 0.3202 - accuracy: 0.8813 - val_loss: 0.3213 - val_accuracy: 0.8805\n",
      "Epoch 7/20\n",
      "850/850 [==============================] - 9s 10ms/step - loss: 0.3154 - accuracy: 0.8838 - val_loss: 0.3259 - val_accuracy: 0.8804\n",
      "Epoch 8/20\n",
      "850/850 [==============================] - 5s 6ms/step - loss: 0.3020 - accuracy: 0.8876 - val_loss: 0.3260 - val_accuracy: 0.8804\n",
      "Epoch 9/20\n",
      "850/850 [==============================] - 5s 6ms/step - loss: 0.2948 - accuracy: 0.8908 - val_loss: 0.3060 - val_accuracy: 0.8905\n",
      "Epoch 10/20\n",
      "850/850 [==============================] - 5s 6ms/step - loss: 0.2865 - accuracy: 0.8936 - val_loss: 0.3111 - val_accuracy: 0.8863\n",
      "Epoch 11/20\n",
      "850/850 [==============================] - 5s 6ms/step - loss: 0.2794 - accuracy: 0.8965 - val_loss: 0.3097 - val_accuracy: 0.8860\n",
      "Epoch 12/20\n",
      "850/850 [==============================] - 6s 7ms/step - loss: 0.2690 - accuracy: 0.8990 - val_loss: 0.3014 - val_accuracy: 0.8855\n",
      "Epoch 13/20\n",
      "850/850 [==============================] - 5s 6ms/step - loss: 0.2635 - accuracy: 0.9029 - val_loss: 0.2961 - val_accuracy: 0.8934\n",
      "Epoch 14/20\n",
      "850/850 [==============================] - 5s 6ms/step - loss: 0.2610 - accuracy: 0.9024 - val_loss: 0.3044 - val_accuracy: 0.8876\n",
      "Epoch 15/20\n",
      "850/850 [==============================] - 5s 6ms/step - loss: 0.2548 - accuracy: 0.9041 - val_loss: 0.3159 - val_accuracy: 0.8909\n",
      "Epoch 16/20\n",
      "850/850 [==============================] - 5s 6ms/step - loss: 0.2473 - accuracy: 0.9065 - val_loss: 0.3027 - val_accuracy: 0.8910\n",
      "Epoch 17/20\n",
      "850/850 [==============================] - 5s 6ms/step - loss: 0.2447 - accuracy: 0.9088 - val_loss: 0.2934 - val_accuracy: 0.8934\n",
      "Epoch 18/20\n",
      "850/850 [==============================] - 5s 6ms/step - loss: 0.2411 - accuracy: 0.9086 - val_loss: 0.2832 - val_accuracy: 0.8968\n",
      "Epoch 19/20\n",
      "850/850 [==============================] - 5s 6ms/step - loss: 0.2332 - accuracy: 0.9125 - val_loss: 0.3027 - val_accuracy: 0.8855\n",
      "Epoch 20/20\n",
      "850/850 [==============================] - 5s 6ms/step - loss: 0.2299 - accuracy: 0.9143 - val_loss: 0.3019 - val_accuracy: 0.8941\n"
     ]
    }
   ],
   "source": [
    "input_layer = Input(shape=(784,))\n",
    "first_hidden_layer = Dense(512, activation=\"relu\")(input_layer)\n",
    "first_hidden_layer_d = Dropout(0.2)(first_hidden_layer)\n",
    "second_hidden_layer = Dense(256, activation=\"relu\")(first_hidden_layer_d)\n",
    "second_hidden_layer_d = Dropout(0.2)(second_hidden_layer)\n",
    "third_hidden_layer = Dense(128, activation=\"relu\")(second_hidden_layer)\n",
    "third_hidden_layer_d = Dropout(0.2)(third_hidden_layer)\n",
    "fourth_hidden_layer = Dense(56, activation=\"relu\")(third_hidden_layer_d)\n",
    "output_layer = Dense(10, activation=\"softmax\")(fourth_hidden_layer)\n",
    "\n",
    "my_model = Model(inputs=input_layer, outputs=output_layer)\n",
    "my_model.compile(optimizer=\"adam\", loss=\"categorical_crossentropy\", metrics=\"accuracy\") # Best optimizer = \"adam\", Multi-Class Classification loss allways \"categorical_crossentropy\"\n",
    "hist = my_model.fit(X_train, y_train, batch_size=64, epochs=20, validation_data=[X_test, y_test])\n"
   ]
  },
  {
   "cell_type": "code",
   "execution_count": 50,
   "metadata": {},
   "outputs": [
    {
     "data": {
      "text/plain": [
       "[<matplotlib.lines.Line2D at 0x1d6f023c8e0>]"
      ]
     },
     "execution_count": 50,
     "metadata": {},
     "output_type": "execute_result"
    },
    {
     "data": {
      "image/png": "[encoded data removed]",
      "text/plain": [
       "<Figure size 432x288 with 1 Axes>"
      ]
     },
     "metadata": {
      "needs_background": "light"
     },
     "output_type": "display_data"
    }
   ],
   "source": [
    "plt.plot(hist.history[\"loss\"][:])\n",
    "plt.plot(hist.history[\"val_loss\"][:])"
   ]
  },
  {
   "cell_type": "code",
   "execution_count": 25,
   "metadata": {},
   "outputs": [
    {
     "data": {
      "text/plain": [
       "[<matplotlib.lines.Line2D at 0x1d6b5c31330>]"
      ]
     },
     "execution_count": 25,
     "metadata": {},
     "output_type": "execute_result"
    },
    {
     "data": {
      "image/png": "[encoded data removed]",
      "text/plain": [
       "<Figure size 432x288 with 1 Axes>"
      ]
     },
     "metadata": {
      "needs_background": "light"
     },
     "output_type": "display_data"
    }
   ],
   "source": [
    "plt.plot(hist.history[\"accuracy\"])\n",
    "plt.plot(hist.history[\"val_accuracy\"])"
   ]
  },
  {
   "cell_type": "code",
   "execution_count": 27,
   "metadata": {},
   "outputs": [
    {
     "name": "stdout",
     "output_type": "stream",
     "text": [
      "63/63 [==============================] - 0s 3ms/step\n",
      "Multi-Class Classification: [[1.02710603e-02 4.31238848e-04 5.06605208e-01 ... 1.54877455e-07\n",
      "  3.35630449e-03 6.91825960e-07]\n",
      " [9.59498510e-02 1.23410085e-02 1.02730997e-01 ... 5.57879801e-04\n",
      "  7.73887336e-02 5.69986994e-04]\n",
      " [2.15958698e-06 5.38906022e-07 6.69557096e-07 ... 7.87512004e-01\n",
      "  1.29445177e-03 2.10652590e-01]\n",
      " ...\n",
      " [1.72149241e-02 2.31608227e-02 2.59443931e-03 ... 3.58651135e-07\n",
      "  5.47046424e-04 8.21344315e-07]\n",
      " [3.30459846e-15 3.44950171e-16 5.00767361e-16 ... 6.63687766e-04\n",
      "  1.16473020e-11 9.99316096e-01]\n",
      " [2.83657176e-35 0.00000000e+00 0.00000000e+00 ... 8.07603735e-23\n",
      "  3.23441056e-31 1.50737252e-26]]\n"
     ]
    }
   ],
   "source": [
    "X_val = np.load('val_images.npy', allow_pickle=True)\n",
    "X_val = X_val/255\n",
    "X_val = X_val.reshape(-1,784)\n",
    "prediction = my_model.predict(X_val)\n",
    "print(f'Multi-Class Classification: {prediction}')\n",
    "my_predictions = np.argmax(prediction, axis=1)\n",
    "my_name = 'Eivind'\n",
    "np.save(f'{my_name}_predictions.npy', my_predictions)"
   ]
  },
  {
   "cell_type": "code",
   "execution_count": null,
   "metadata": {},
   "outputs": [],
   "source": []
  }
 ],
 "metadata": {
  "kernelspec": {
   "display_name": "Python 3.10.4 64-bit",
   "language": "python",
   "name": "python3"
  },
  "language_info": {
   "codemirror_mode": {
    "name": "ipython",
    "version": 3
   },
   "file_extension": ".py",
   "mimetype": "text/x-python",
   "name": "python",
   "nbconvert_exporter": "python",
   "pygments_lexer": "ipython3",
   "version": "3.10.4"
  },
  "orig_nbformat": 4,
  "vscode": {
   "interpreter": {
    "hash": "26de051ba29f2982a8de78e945f0abaf191376122a1563185a90213a26c5da77"
   }
  }
 },
 "nbformat": 4,
 "nbformat_minor": 2
}
