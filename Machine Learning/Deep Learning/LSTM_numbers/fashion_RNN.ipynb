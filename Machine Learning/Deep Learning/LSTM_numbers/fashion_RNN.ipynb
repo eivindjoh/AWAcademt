{
 "cells": [
  {
   "cell_type": "code",
   "execution_count": 1,
   "metadata": {},
   "outputs": [
    {
     "data": {
      "text/plain": [
       "True"
      ]
     },
     "execution_count": 1,
     "metadata": {},
     "output_type": "execute_result"
    }
   ],
   "source": [
    "import numpy as np\n",
    "import matplotlib.pyplot as plt\n",
    "import tensorflow as tf\n",
    "from keras import activations, regularizers\n",
    "from keras.layers import Dense, Input, Concatenate, Dropout, LSTM, Embedding, Flatten, Conv2D, MaxPooling2D, TimeDistributed\n",
    "from keras.models import Model, Sequential\n",
    "from sklearn.model_selection import train_test_split\n",
    "import numpy as np\n",
    "tf.executing_eagerly()"
   ]
  },
  {
   "cell_type": "code",
   "execution_count": 2,
   "metadata": {},
   "outputs": [],
   "source": [
    "X_train =  np.load('train_images.npy', allow_pickle=True)\n",
    "y_train =  np.load('train_labels.npy', allow_pickle=True)"
   ]
  },
  {
   "cell_type": "code",
   "execution_count": 3,
   "metadata": {},
   "outputs": [],
   "source": [
    "class_names = ['T-shirt/top', 'Trouser', 'Pullover', 'Dress', 'Coat',\n",
    "               'Sandal', 'Shirt', 'Sneaker', 'Bag', 'Ankle boot']"
   ]
  },
  {
   "cell_type": "code",
   "execution_count": 4,
   "metadata": {},
   "outputs": [
    {
     "name": "stdout",
     "output_type": "stream",
     "text": [
      "This is a T-shirt/top\n"
     ]
    },
    {
     "data": {
      "image/png": "[encoded data removed]",
      "text/plain": [
       "<Figure size 432x288 with 1 Axes>"
      ]
     },
     "metadata": {
      "needs_background": "light"
     },
     "output_type": "display_data"
    }
   ],
   "source": [
    "# show image\n",
    "data_idx = 1\n",
    "plt.imshow(X_train[data_idx,:,:]/255, cmap='binary')\n",
    "class_number = y_train[data_idx]\n",
    "class_text = class_names[class_number]\n",
    "print(f'This is a {class_text}')"
   ]
  },
  {
   "cell_type": "code",
   "execution_count": 5,
   "metadata": {},
   "outputs": [],
   "source": [
    "# data prep\n",
    "X_train = X_train/255\n",
    "X_train = X_train.reshape(-1, 28, 28, 1)\n",
    "# y_train_ohe = np.zeros((68000, 10))"
   ]
  },
  {
   "cell_type": "code",
   "execution_count": 6,
   "metadata": {},
   "outputs": [],
   "source": [
    "# for count, row in enumerate(y_train_ohe):\n",
    "#     row[y_train[count]] = 1"
   ]
  },
  {
   "cell_type": "code",
   "execution_count": 7,
   "metadata": {},
   "outputs": [],
   "source": [
    "X_train, X_test, y_train, y_test = train_test_split(X_train, y_train, test_size=0.2, random_state=101)\n",
    "# y_train = y_train_ohe"
   ]
  },
  {
   "cell_type": "code",
   "execution_count": 9,
   "metadata": {},
   "outputs": [
    {
     "name": "stdout",
     "output_type": "stream",
     "text": [
      "Epoch 1/20\n",
      "850/850 [==============================] - 50s 56ms/step - loss: 0.6044 - accuracy: 0.7745 - val_loss: 0.4517 - val_accuracy: 0.8290\n",
      "Epoch 2/20\n",
      "850/850 [==============================] - 48s 57ms/step - loss: 0.4298 - accuracy: 0.8419 - val_loss: 0.4284 - val_accuracy: 0.8368\n",
      "Epoch 3/20\n",
      "850/850 [==============================] - 46s 54ms/step - loss: 0.3768 - accuracy: 0.8603 - val_loss: 0.3761 - val_accuracy: 0.8606\n",
      "Epoch 4/20\n",
      "850/850 [==============================] - 48s 56ms/step - loss: 0.3442 - accuracy: 0.8733 - val_loss: 0.3429 - val_accuracy: 0.8701\n",
      "Epoch 5/20\n",
      "850/850 [==============================] - 47s 56ms/step - loss: 0.3253 - accuracy: 0.8797 - val_loss: 0.3311 - val_accuracy: 0.8752\n",
      "Epoch 6/20\n",
      "850/850 [==============================] - 46s 54ms/step - loss: 0.3037 - accuracy: 0.8863 - val_loss: 0.3080 - val_accuracy: 0.8861\n",
      "Epoch 7/20\n",
      "850/850 [==============================] - 47s 55ms/step - loss: 0.2870 - accuracy: 0.8936 - val_loss: 0.3040 - val_accuracy: 0.8888\n",
      "Epoch 8/20\n",
      "850/850 [==============================] - 47s 55ms/step - loss: 0.2728 - accuracy: 0.8977 - val_loss: 0.2881 - val_accuracy: 0.8932\n",
      "Epoch 9/20\n",
      "850/850 [==============================] - 48s 57ms/step - loss: 0.2613 - accuracy: 0.9005 - val_loss: 0.2889 - val_accuracy: 0.8951\n",
      "Epoch 10/20\n",
      "850/850 [==============================] - 50s 59ms/step - loss: 0.2457 - accuracy: 0.9078 - val_loss: 0.3137 - val_accuracy: 0.8871\n",
      "Epoch 11/20\n",
      "850/850 [==============================] - 53s 62ms/step - loss: 0.2361 - accuracy: 0.9114 - val_loss: 0.2965 - val_accuracy: 0.8937\n",
      "Epoch 12/20\n",
      "850/850 [==============================] - 50s 59ms/step - loss: 0.2222 - accuracy: 0.9161 - val_loss: 0.2821 - val_accuracy: 0.8996\n",
      "Epoch 13/20\n",
      "850/850 [==============================] - 50s 59ms/step - loss: 0.2107 - accuracy: 0.9206 - val_loss: 0.2863 - val_accuracy: 0.8958\n",
      "Epoch 14/20\n",
      "850/850 [==============================] - 50s 59ms/step - loss: 0.2033 - accuracy: 0.9237 - val_loss: 0.2755 - val_accuracy: 0.9034\n",
      "Epoch 15/20\n",
      "850/850 [==============================] - 51s 60ms/step - loss: 0.1915 - accuracy: 0.9286 - val_loss: 0.2794 - val_accuracy: 0.9001\n",
      "Epoch 16/20\n",
      "850/850 [==============================] - 51s 60ms/step - loss: 0.1828 - accuracy: 0.9309 - val_loss: 0.2773 - val_accuracy: 0.9001\n",
      "Epoch 17/20\n",
      "850/850 [==============================] - 51s 60ms/step - loss: 0.1750 - accuracy: 0.9348 - val_loss: 0.2746 - val_accuracy: 0.8996\n",
      "Epoch 18/20\n",
      "850/850 [==============================] - 52s 61ms/step - loss: 0.1645 - accuracy: 0.9388 - val_loss: 0.2794 - val_accuracy: 0.9027\n",
      "Epoch 19/20\n",
      "850/850 [==============================] - 51s 60ms/step - loss: 0.1547 - accuracy: 0.9439 - val_loss: 0.2835 - val_accuracy: 0.9040\n",
      "Epoch 20/20\n",
      "850/850 [==============================] - 52s 61ms/step - loss: 0.1493 - accuracy: 0.9438 - val_loss: 0.2846 - val_accuracy: 0.9062\n"
     ]
    }
   ],
   "source": [
    "input_layer = Input(shape=(28,28))\n",
    "first_hidden_layer = LSTM(150, return_sequences=True)(input_layer)\n",
    "second_hidden_layer = LSTM(100)(first_hidden_layer)\n",
    "output_layer = Dense(10, activation=\"softmax\")(second_hidden_layer)\n",
    "\n",
    "my_model = Model(inputs=input_layer, outputs=output_layer)\n",
    "my_model.compile(optimizer=\"adam\", loss=\"sparse_categorical_crossentropy\", metrics=\"accuracy\") # Best optimizer = \"adam\", Multi-Class Classification loss allways \"categorical_crossentropy\"\n",
    "hist = my_model.fit(X_train, y_train, batch_size=64, epochs=20, validation_data=[X_test, y_test])"
   ]
  },
  {
   "cell_type": "code",
   "execution_count": 10,
   "metadata": {},
   "outputs": [
    {
     "ename": "KeyError",
     "evalue": "'val_loss'",
     "output_type": "error",
     "traceback": [
      "\u001b[1;31m---------------------------------------------------------------------------\u001b[0m",
      "\u001b[1;31mKeyError\u001b[0m                                  Traceback (most recent call last)",
      "\u001b[1;32mc:\\Users\\Eivin\\OneDrive\\Dokumenter\\Summer22 Data Engineering & Analytics\\Machine Learning\\Deep Learning\\Fashion\\fashion copy.ipynb Cell 9\u001b[0m in \u001b[0;36m<cell line: 2>\u001b[1;34m()\u001b[0m\n\u001b[0;32m      <a href='vscode-notebook-cell:/c%3A/Users/Eivin/OneDrive/Dokumenter/Summer22%20Data%20Engineering%20%26%20Analytics/Machine%20Learning/Deep%20Learning/Fashion/fashion%20copy.ipynb#X13sZmlsZQ%3D%3D?line=0'>1</a>\u001b[0m plt\u001b[39m.\u001b[39mplot(hist\u001b[39m.\u001b[39mhistory[\u001b[39m\"\u001b[39m\u001b[39mloss\u001b[39m\u001b[39m\"\u001b[39m][:])\n\u001b[1;32m----> <a href='vscode-notebook-cell:/c%3A/Users/Eivin/OneDrive/Dokumenter/Summer22%20Data%20Engineering%20%26%20Analytics/Machine%20Learning/Deep%20Learning/Fashion/fashion%20copy.ipynb#X13sZmlsZQ%3D%3D?line=1'>2</a>\u001b[0m plt\u001b[39m.\u001b[39mplot(hist\u001b[39m.\u001b[39;49mhistory[\u001b[39m\"\u001b[39;49m\u001b[39mval_loss\u001b[39;49m\u001b[39m\"\u001b[39;49m][:])\n",
      "\u001b[1;31mKeyError\u001b[0m: 'val_loss'"
     ]
    },
    {
     "data": {
      "image/png": "[encoded data removed]",
      "text/plain": [
       "<Figure size 432x288 with 1 Axes>"
      ]
     },
     "metadata": {
      "needs_background": "light"
     },
     "output_type": "display_data"
    }
   ],
   "source": [
    "plt.plot(hist.history[\"loss\"][:])\n",
    "plt.plot(hist.history[\"val_loss\"][:])"
   ]
  },
  {
   "cell_type": "code",
   "execution_count": 10,
   "metadata": {},
   "outputs": [
    {
     "name": "stdout",
     "output_type": "stream",
     "text": [
      "63/63 [==============================] - 0s 6ms/step\n",
      "Multi-Class Classification: [[2.77382485e-03 2.36211940e-06 8.42161834e-01 ... 4.48495605e-08\n",
      "  1.91595158e-04 2.36735261e-07]\n",
      " [2.53966101e-03 5.02762778e-05 1.01825101e-02 ... 4.26139366e-07\n",
      "  1.30494329e-04 2.36853506e-08]\n",
      " [2.52830854e-04 1.15741543e-07 9.37042569e-06 ... 6.51153386e-01\n",
      "  2.86359689e-04 3.47721070e-01]\n",
      " ...\n",
      " [4.95276880e-04 3.38821526e-04 8.89962103e-05 ... 1.59803240e-05\n",
      "  4.83725831e-04 9.80262030e-06]\n",
      " [2.95111408e-06 4.81313434e-09 6.41634074e-07 ... 2.64904252e-03\n",
      "  4.58768000e-06 9.97176409e-01]\n",
      " [1.18286323e-08 1.06712104e-11 9.65954872e-10 ... 1.06927214e-08\n",
      "  1.61770473e-08 4.23216617e-09]]\n"
     ]
    }
   ],
   "source": [
    "X_val = np.load('val_images.npy', allow_pickle=True)\n",
    "X_val = X_val/255\n",
    "X_val = X_val.reshape(-1,28,28,1)\n",
    "prediction = my_model.predict(X_val)\n",
    "print(f'Multi-Class Classification: {prediction}')\n",
    "my_predictions = np.argmax(prediction, axis=1)\n",
    "my_name = 'Eivind'\n",
    "np.save(f'{my_name}_CNN_predictions_ver2.npy', my_predictions)"
   ]
  }
 ],
 "metadata": {
  "kernelspec": {
   "display_name": "Python 3.10.4 64-bit",
   "language": "python",
   "name": "python3"
  },
  "language_info": {
   "codemirror_mode": {
    "name": "ipython",
    "version": 3
   },
   "file_extension": ".py",
   "mimetype": "text/x-python",
   "name": "python",
   "nbconvert_exporter": "python",
   "pygments_lexer": "ipython3",
   "version": "3.10.4"
  },
  "orig_nbformat": 4,
  "vscode": {
   "interpreter": {
    "hash": "26de051ba29f2982a8de78e945f0abaf191376122a1563185a90213a26c5da77"
   }
  }
 },
 "nbformat": 4,
 "nbformat_minor": 2
}
