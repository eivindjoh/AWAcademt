{
 "cells": [
  {
   "cell_type": "code",
   "execution_count": 1,
   "metadata": {},
   "outputs": [],
   "source": [
    "import numpy as np\n",
    "from sklearn.datasets import fetch_openml\n",
    "from sklearn.model_selection import train_test_split\n",
    "from sklearn.linear_model import LogisticRegression\n",
    "from sklearn.metrics import confusion_matrix\n",
    "from sklearn.metrics import accuracy_score\n",
    "from sklearn.metrics import classification_report"
   ]
  },
  {
   "cell_type": "code",
   "execution_count": 2,
   "metadata": {},
   "outputs": [],
   "source": [
    "mnist = fetch_openml('mnist_784', version=1)"
   ]
  },
  {
   "cell_type": "code",
   "execution_count": 3,
   "metadata": {},
   "outputs": [
    {
     "name": "stdout",
     "output_type": "stream",
     "text": [
      "dict_keys(['data', 'target', 'frame', 'categories', 'feature_names', 'target_names', 'DESCR', 'details', 'url'])\n"
     ]
    }
   ],
   "source": [
    "# mnist is a dictionary, with the following keys \n",
    "print(mnist.keys())\n",
    "# Use mnist['DESCR'] to read more information about the data"
   ]
  },
  {
   "cell_type": "code",
   "execution_count": 4,
   "metadata": {},
   "outputs": [],
   "source": [
    "#Extract features and labels\n",
    "X = np.c_[mnist['data']]\n",
    "y = np.c_[mnist['target']].reshape(-1)"
   ]
  },
  {
   "cell_type": "code",
   "execution_count": 5,
   "metadata": {},
   "outputs": [
    {
     "name": "stdout",
     "output_type": "stream",
     "text": [
      "(70000, 784)\n",
      "(70000,)\n"
     ]
    }
   ],
   "source": [
    "# investigate data\n",
    "print(X.shape) # 70000 images, with 784 pixels\n",
    "print(y.shape) # 70000 labels of which number the picture is of"
   ]
  },
  {
   "cell_type": "code",
   "execution_count": 6,
   "metadata": {},
   "outputs": [],
   "source": [
    "# extract single digit\n",
    "instance_index = 2\n",
    "single_digit = X[instance_index,:]\n",
    "single_digit_image = single_digit.reshape(28,28)"
   ]
  },
  {
   "cell_type": "code",
   "execution_count": 7,
   "metadata": {},
   "outputs": [
    {
     "data": {
      "image/png": "[encoded data removed]",
      "text/plain": [
       "<Figure size 432x288 with 1 Axes>"
      ]
     },
     "metadata": {
      "needs_background": "light"
     },
     "output_type": "display_data"
    }
   ],
   "source": [
    "# plot the digit\n",
    "import matplotlib.pyplot as plt\n",
    "plt.imshow(single_digit_image, cmap='binary')\n",
    "plt.axis('off')\n",
    "plt.show()"
   ]
  },
  {
   "cell_type": "code",
   "execution_count": 8,
   "metadata": {},
   "outputs": [
    {
     "name": "stdout",
     "output_type": "stream",
     "text": [
      "4\n",
      "<class 'str'>\n"
     ]
    }
   ],
   "source": [
    "# each instance is a and drawn digit between 0 and 1 (28X28 pixels equals 784 flatten pixels)\n",
    "print(y[instance_index])\n",
    "print(type(y[instance_index])) # every label is a string"
   ]
  },
  {
   "cell_type": "code",
   "execution_count": 9,
   "metadata": {},
   "outputs": [
    {
     "name": "stdout",
     "output_type": "stream",
     "text": [
      "<class 'numpy.uint8'>\n"
     ]
    }
   ],
   "source": [
    "# change labels to number\n",
    "y=y.astype(np.uint8)\n",
    "print(type(y[instance_index])) # every label is now numeric"
   ]
  },
  {
   "cell_type": "code",
   "execution_count": 10,
   "metadata": {},
   "outputs": [],
   "source": [
    "# split your data into train and test set\n",
    "X_train, X_test, y_train, y_test = train_test_split(X, y, test_size=0.1, random_state=420)"
   ]
  },
  {
   "cell_type": "code",
   "execution_count": 11,
   "metadata": {},
   "outputs": [],
   "source": [
    "# Dataprep the features such that it is between 0 and 1. (hint: this is quite easy as the maximum \n",
    "# pixel illumination is 255) \n",
    "for count, i in enumerate(X_train):\n",
    "    X_train[count] = i/255"
   ]
  },
  {
   "cell_type": "code",
   "execution_count": 12,
   "metadata": {},
   "outputs": [],
   "source": [
    "# Create a new variable y_train_is5, and y_test_is5, which is 0 for all y values except for when y is 5.\n",
    "y_train_is5 = []\n",
    "for i in y_train:\n",
    "    if i == 5:\n",
    "        y_train_is5.append(1)\n",
    "    else:\n",
    "        y_train_is5.append(0)\n",
    "y_train_is5 = np.array(y_train_is5)\n",
    "\n",
    "y_test_is5 = []\n",
    "for i in y_test:\n",
    "    if i == 5:\n",
    "        y_test_is5.append(1)\n",
    "    else:\n",
    "        y_test_is5.append(0)\n",
    "y_test_is5 = np.array(y_test_is5)"
   ]
  },
  {
   "cell_type": "code",
   "execution_count": 13,
   "metadata": {},
   "outputs": [
    {
     "data": {
      "text/html": [
       "<style>#sk-container-id-1 {color: black;background-color: white;}#sk-container-id-1 pre{padding: 0;}#sk-container-id-1 div.sk-toggleable {background-color: white;}#sk-container-id-1 label.sk-toggleable__label {cursor: pointer;display: block;width: 100%;margin-bottom: 0;padding: 0.3em;box-sizing: border-box;text-align: center;}#sk-container-id-1 label.sk-toggleable__label-arrow:before {content: \"▸\";float: left;margin-right: 0.25em;color: #696969;}#sk-container-id-1 label.sk-toggleable__label-arrow:hover:before {color: black;}#sk-container-id-1 div.sk-estimator:hover label.sk-toggleable__label-arrow:before {color: black;}#sk-container-id-1 div.sk-toggleable__content {max-height: 0;max-width: 0;overflow: hidden;text-align: left;background-color: #f0f8ff;}#sk-container-id-1 div.sk-toggleable__content pre {margin: 0.2em;color: black;border-radius: 0.25em;background-color: #f0f8ff;}#sk-container-id-1 input.sk-toggleable__control:checked~div.sk-toggleable__content {max-height: 200px;max-width: 100%;overflow: auto;}#sk-container-id-1 input.sk-toggleable__control:checked~label.sk-toggleable__label-arrow:before {content: \"▾\";}#sk-container-id-1 div.sk-estimator input.sk-toggleable__control:checked~label.sk-toggleable__label {background-color: #d4ebff;}#sk-container-id-1 div.sk-label input.sk-toggleable__control:checked~label.sk-toggleable__label {background-color: #d4ebff;}#sk-container-id-1 input.sk-hidden--visually {border: 0;clip: rect(1px 1px 1px 1px);clip: rect(1px, 1px, 1px, 1px);height: 1px;margin: -1px;overflow: hidden;padding: 0;position: absolute;width: 1px;}#sk-container-id-1 div.sk-estimator {font-family: monospace;background-color: #f0f8ff;border: 1px dotted black;border-radius: 0.25em;box-sizing: border-box;margin-bottom: 0.5em;}#sk-container-id-1 div.sk-estimator:hover {background-color: #d4ebff;}#sk-container-id-1 div.sk-parallel-item::after {content: \"\";width: 100%;border-bottom: 1px solid gray;flex-grow: 1;}#sk-container-id-1 div.sk-label:hover label.sk-toggleable__label {background-color: #d4ebff;}#sk-container-id-1 div.sk-serial::before {content: \"\";position: absolute;border-left: 1px solid gray;box-sizing: border-box;top: 0;bottom: 0;left: 50%;z-index: 0;}#sk-container-id-1 div.sk-serial {display: flex;flex-direction: column;align-items: center;background-color: white;padding-right: 0.2em;padding-left: 0.2em;position: relative;}#sk-container-id-1 div.sk-item {position: relative;z-index: 1;}#sk-container-id-1 div.sk-parallel {display: flex;align-items: stretch;justify-content: center;background-color: white;position: relative;}#sk-container-id-1 div.sk-item::before, #sk-container-id-1 div.sk-parallel-item::before {content: \"\";position: absolute;border-left: 1px solid gray;box-sizing: border-box;top: 0;bottom: 0;left: 50%;z-index: -1;}#sk-container-id-1 div.sk-parallel-item {display: flex;flex-direction: column;z-index: 1;position: relative;background-color: white;}#sk-container-id-1 div.sk-parallel-item:first-child::after {align-self: flex-end;width: 50%;}#sk-container-id-1 div.sk-parallel-item:last-child::after {align-self: flex-start;width: 50%;}#sk-container-id-1 div.sk-parallel-item:only-child::after {width: 0;}#sk-container-id-1 div.sk-dashed-wrapped {border: 1px dashed gray;margin: 0 0.4em 0.5em 0.4em;box-sizing: border-box;padding-bottom: 0.4em;background-color: white;}#sk-container-id-1 div.sk-label label {font-family: monospace;font-weight: bold;display: inline-block;line-height: 1.2em;}#sk-container-id-1 div.sk-label-container {text-align: center;}#sk-container-id-1 div.sk-container {/* jupyter's `normalize.less` sets `[hidden] { display: none; }` but bootstrap.min.css set `[hidden] { display: none !important; }` so we also need the `!important` here to be able to override the default hidden behavior on the sphinx rendered scikit-learn.org. See: https://github.com/scikit-learn/scikit-learn/issues/21755 */display: inline-block !important;position: relative;}#sk-container-id-1 div.sk-text-repr-fallback {display: none;}</style><div id=\"sk-container-id-1\" class=\"sk-top-container\"><div class=\"sk-text-repr-fallback\"><pre>LogisticRegression(max_iter=1000)</pre><b>In a Jupyter environment, please rerun this cell to show the HTML representation or trust the notebook. <br />On GitHub, the HTML representation is unable to render, please try loading this page with nbviewer.org.</b></div><div class=\"sk-container\" hidden><div class=\"sk-item\"><div class=\"sk-estimator sk-toggleable\"><input class=\"sk-toggleable__control sk-hidden--visually\" id=\"sk-estimator-id-1\" type=\"checkbox\" checked><label for=\"sk-estimator-id-1\" class=\"sk-toggleable__label sk-toggleable__label-arrow\">LogisticRegression</label><div class=\"sk-toggleable__content\"><pre>LogisticRegression(max_iter=1000)</pre></div></div></div></div></div>"
      ],
      "text/plain": [
       "LogisticRegression(max_iter=1000)"
      ]
     },
     "execution_count": 13,
     "metadata": {},
     "output_type": "execute_result"
    }
   ],
   "source": [
    "# Create a logistic regression model, and train the data to predict if the image is a 5 or not.\n",
    "model_is5 = LogisticRegression(max_iter=1000)\n",
    "model_is5.fit(X=X_train, y=y_train_is5)"
   ]
  },
  {
   "cell_type": "code",
   "execution_count": 14,
   "metadata": {},
   "outputs": [],
   "source": [
    "# Prep test table\n",
    "for count, i in enumerate(X_test):\n",
    "    X_test[count] = i/255"
   ]
  },
  {
   "cell_type": "code",
   "execution_count": 15,
   "metadata": {},
   "outputs": [
    {
     "name": "stdout",
     "output_type": "stream",
     "text": [
      "[[6333   49]\n",
      " [ 109  509]]\n",
      "Precision 0.9121863799283154\n",
      "Recall 0.8236245954692557\n",
      "              precision    recall  f1-score   support\n",
      "\n",
      "           0       0.98      0.99      0.99      6382\n",
      "           1       0.91      0.82      0.87       618\n",
      "\n",
      "    accuracy                           0.98      7000\n",
      "   macro avg       0.95      0.91      0.93      7000\n",
      "weighted avg       0.98      0.98      0.98      7000\n",
      "\n"
     ]
    }
   ],
   "source": [
    "# Investigate the confusion matrix, precision and recall. Is this good or bad? \n",
    "y_pred_is5 = model_is5.predict(X_test)\n",
    "cmatrix = confusion_matrix(y_test_is5, y_pred_is5)\n",
    "print(cmatrix)\n",
    "print(f'Precision {cmatrix[1][1]/(cmatrix[1][1]+cmatrix[0][1])}')\n",
    "print(f'Recall {cmatrix[1][1]/(cmatrix[1][1]+cmatrix[1][0])}')\n",
    "print(classification_report(y_test_is5, y_pred_is5))\n"
   ]
  },
  {
   "cell_type": "code",
   "execution_count": 16,
   "metadata": {},
   "outputs": [
    {
     "name": "stdout",
     "output_type": "stream",
     "text": [
      "[[6382    0]\n",
      " [ 618    0]]\n",
      "Precision nan\n",
      "Recall 0.0\n",
      "              precision    recall  f1-score   support\n",
      "\n",
      "           0       0.91      1.00      0.95      6382\n",
      "           1       0.00      0.00      0.00       618\n",
      "\n",
      "    accuracy                           0.91      7000\n",
      "   macro avg       0.46      0.50      0.48      7000\n",
      "weighted avg       0.83      0.91      0.87      7000\n",
      "\n"
     ]
    },
    {
     "name": "stderr",
     "output_type": "stream",
     "text": [
      "C:\\Users\\Eivin\\AppData\\Local\\Temp\\ipykernel_15344\\2842554505.py:4: RuntimeWarning: invalid value encountered in longlong_scalars\n",
      "  print(f'Precision {cmatrix_false[1][1]/(cmatrix_false[1][1]+cmatrix_false[0][1])}')\n",
      "C:\\Users\\Eivin\\AppData\\Roaming\\Python\\Python310\\site-packages\\sklearn\\metrics\\_classification.py:1327: UndefinedMetricWarning: Precision and F-score are ill-defined and being set to 0.0 in labels with no predicted samples. Use `zero_division` parameter to control this behavior.\n",
      "  _warn_prf(average, modifier, msg_start, len(result))\n",
      "C:\\Users\\Eivin\\AppData\\Roaming\\Python\\Python310\\site-packages\\sklearn\\metrics\\_classification.py:1327: UndefinedMetricWarning: Precision and F-score are ill-defined and being set to 0.0 in labels with no predicted samples. Use `zero_division` parameter to control this behavior.\n",
      "  _warn_prf(average, modifier, msg_start, len(result))\n",
      "C:\\Users\\Eivin\\AppData\\Roaming\\Python\\Python310\\site-packages\\sklearn\\metrics\\_classification.py:1327: UndefinedMetricWarning: Precision and F-score are ill-defined and being set to 0.0 in labels with no predicted samples. Use `zero_division` parameter to control this behavior.\n",
      "  _warn_prf(average, modifier, msg_start, len(result))\n"
     ]
    }
   ],
   "source": [
    "y_pred_false = [0] * len(y_test_is5)\n",
    "cmatrix_false = confusion_matrix(y_test_is5, y_pred_false)\n",
    "print(cmatrix_false)\n",
    "print(f'Precision {cmatrix_false[1][1]/(cmatrix_false[1][1]+cmatrix_false[0][1])}')\n",
    "print(f'Recall {cmatrix_false[1][1]/(cmatrix_false[1][1]+cmatrix_false[1][0])}')\n",
    "print(classification_report(y_test_is5, y_pred_false))"
   ]
  },
  {
   "cell_type": "code",
   "execution_count": 17,
   "metadata": {},
   "outputs": [
    {
     "name": "stdout",
     "output_type": "stream",
     "text": [
      "True Negative: 6001\n",
      "False Positive: 381\n",
      "False Negative: 30\n",
      "True Positive :588\n",
      "Precision 0.6068111455108359\n",
      "Recall 0.9514563106796117\n",
      "Cost of error: 4905\n"
     ]
    }
   ],
   "source": [
    "model_is5_proba = model_is5.predict_proba(X=X_test)\n",
    "\n",
    "threshold = 0.1\n",
    "pred_rate = []\n",
    "tn = 0\n",
    "fp = 0\n",
    "fn = 0\n",
    "tp = 0\n",
    "\n",
    "for count, i in enumerate(model_is5_proba):\n",
    "    if i[1] > threshold:\n",
    "        pred_rate.append(1)\n",
    "    else:\n",
    "        pred_rate.append(0)\n",
    "\n",
    "for count, i in enumerate(pred_rate):\n",
    "    if i == 1 and y_test_is5[count] == 1:\n",
    "        tp += 1\n",
    "    elif i == 1 and y_test_is5[count] == 0:\n",
    "        fp += 1\n",
    "    elif i == 0 and y_test_is5[count] == 1:\n",
    "        fn += 1\n",
    "    else:\n",
    "        tn += 1\n",
    "\n",
    "print(f'True Negative: {tn}')\n",
    "print(f'False Positive: {fp}')\n",
    "print(f'False Negative: {fn}')\n",
    "print(f'True Positive :{tp}')\n",
    "\n",
    "print(f'Precision {tp/(tp+fp)}')\n",
    "print(f'Recall {tp/(tp+fn)}')\n",
    "\n",
    "cost_fp = 5 * fp\n",
    "cost_fn = 100 * fn\n",
    "\n",
    "print(f'Cost of error: {cost_fp + cost_fn}')\n"
   ]
  },
  {
   "cell_type": "code",
   "execution_count": 51,
   "metadata": {},
   "outputs": [
    {
     "name": "stdout",
     "output_type": "stream",
     "text": [
      "[[5]\n",
      " [5]\n",
      " [5]\n",
      " ...\n",
      " [5]\n",
      " [5]\n",
      " [5]]\n"
     ]
    }
   ],
   "source": [
    "#y_test_is5_oversampling = [count for count, i in enumerate(y_test_is5) if i == 1]\n",
    "X_train_True = []\n",
    "y_train_True = []\n",
    "for count, x in enumerate(y_train_is5):\n",
    "    if x == 1:\n",
    "        X_train_True.append(X_train[count])\n",
    "        y_train_True.append(y_train[count])\n",
    "\n",
    "X_train_True = np.c_[X_train_True]\n",
    "y_train_True = np.c_[y_train_True]\n",
    "\n",
    "print(y_train_True)\n",
    "\n"
   ]
  }
 ],
 "metadata": {
  "kernelspec": {
   "display_name": "Python 3.10.4 64-bit",
   "language": "python",
   "name": "python3"
  },
  "language_info": {
   "codemirror_mode": {
    "name": "ipython",
    "version": 3
   },
   "file_extension": ".py",
   "mimetype": "text/x-python",
   "name": "python",
   "nbconvert_exporter": "python",
   "pygments_lexer": "ipython3",
   "version": "3.10.4"
  },
  "orig_nbformat": 4,
  "vscode": {
   "interpreter": {
    "hash": "26de051ba29f2982a8de78e945f0abaf191376122a1563185a90213a26c5da77"
   }
  }
 },
 "nbformat": 4,
 "nbformat_minor": 2
}
