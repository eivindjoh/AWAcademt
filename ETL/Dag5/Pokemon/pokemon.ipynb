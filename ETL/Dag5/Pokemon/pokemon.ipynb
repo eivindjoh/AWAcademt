{
 "cells": [
  {
   "cell_type": "code",
   "execution_count": 3,
   "metadata": {},
   "outputs": [],
   "source": [
    "import requests\n",
    "from PIL import Image\n",
    "\n",
    "base_url = \"https://pokeapi.co/api/v2\"\n",
    "end_point = \"/pokemon\""
   ]
  },
  {
   "cell_type": "code",
   "execution_count": 4,
   "metadata": {},
   "outputs": [],
   "source": [
    "def get_pokemons():\n",
    "    response = requests.get(base_url+end_point)\n",
    "    if response.ok:\n",
    "        return response.json()[\"results\"]"
   ]
  },
  {
   "cell_type": "code",
   "execution_count": 5,
   "metadata": {},
   "outputs": [],
   "source": [
    "def get_pokemon_sprites():\n",
    "    pokemons = get_pokemons()\n",
    "    sprites = {}\n",
    "    for pokemon in pokemons:\n",
    "        response = requests.get(pokemon[\"url\"])\n",
    "        if response.ok:\n",
    "            json_data = response.json()\n",
    "            sprites[pokemon[\"name\"]] = json_data[\"sprites\"][\"front_default\"]\n",
    "    return sprites"
   ]
  },
  {
   "cell_type": "code",
   "execution_count": 6,
   "metadata": {},
   "outputs": [],
   "source": [
    "def write_pokemon_sprites_to_files():\n",
    "    sprites = get_pokemon_sprites()\n",
    "    for k,v in sprites.items():\n",
    "        url = v\n",
    "        with open(k + '.png', 'wb') as handler:\n",
    "            response = requests.get(url)\n",
    "            handler.write(response.content)"
   ]
  },
  {
   "cell_type": "code",
   "execution_count": 38,
   "metadata": {},
   "outputs": [],
   "source": [
    "def get_pokemon_stats():\n",
    "    pokemons = get_pokemons()\n",
    "    all_stats = {}\n",
    "    for pokemon in pokemons:\n",
    "        response = requests.get(pokemon[\"url\"])\n",
    "        if response.ok:\n",
    "            json_data = response.json()\n",
    "            abilities = json_data[\"stats\"]\n",
    "            stats = {}\n",
    "            for ability in abilities:\n",
    "                stats[ability[\"stat\"][\"name\"]] = ability[\"base_stat\"]\n",
    "            all_stats[pokemon[\"name\"]] = stats\n",
    "    return all_stats"
   ]
  },
  {
   "cell_type": "code",
   "execution_count": 29,
   "metadata": {},
   "outputs": [],
   "source": [
    "import psycopg2"
   ]
  },
  {
   "cell_type": "code",
   "execution_count": 31,
   "metadata": {},
   "outputs": [],
   "source": [
    "def create_pokemon_table():\n",
    "    with psycopg2.connect(\"dbname=postgres user=postgres password=mysecretpassword\", port=5544) as conn:\n",
    "        with conn.cursor() as cur:\n",
    "            cur.execute(\"\"\"CREATE TABLE pokemons (\n",
    "                        \"id\" serial PRIMARY KEY,\n",
    "                        \"name\" varchar,\n",
    "                        \"hp\" int,\n",
    "                        \"attack\" int,\n",
    "                        \"defense\" int,\n",
    "                        \"special-attack\" int,\n",
    "                        \"special-defense\" int,\n",
    "                        \"speed\" int\n",
    "                        )\"\"\")\n",
    "            conn.commit()"
   ]
  },
  {
   "cell_type": "code",
   "execution_count": 37,
   "metadata": {},
   "outputs": [],
   "source": [
    "def insert_data():\n",
    "    with psycopg2.connect(\"dbname=postgres user=postgres password=mysecretpassword\", port=5544) as conn:\n",
    "        with conn.cursor() as cur:\n",
    "            pokemons = get_pokemon_stats()\n",
    "            for k,v in pokemons.items():\n",
    "                name = k\n",
    "                hp = v[\"hp\"]\n",
    "                attack = v[\"attack\"]\n",
    "                defense = v[\"defense\"]\n",
    "                special_attack = v[\"special-attack\"]\n",
    "                special_defense = v[\"special-defense\"]\n",
    "                speed = v[\"speed\"]\n",
    "                cur.execute(\"\"\"INSERT INTO pokemons (\n",
    "                            \"name\", \n",
    "                            \"hp\", \n",
    "                            \"attack\", \n",
    "                            \"defense\", \n",
    "                            \"special-attack\", \n",
    "                            \"special-defense\", \n",
    "                            \"speed\") \n",
    "                            VALUES (%s,%s,%s,%s,%s,%s,%s);\"\"\",\n",
    "                            [name, hp, attack, defense, special_attack, special_defense, speed]\n",
    "                            )\n",
    "            conn.commit()"
   ]
  }
 ],
 "metadata": {
  "kernelspec": {
   "display_name": "Python 3.10.4 64-bit",
   "language": "python",
   "name": "python3"
  },
  "language_info": {
   "codemirror_mode": {
    "name": "ipython",
    "version": 3
   },
   "file_extension": ".py",
   "mimetype": "text/x-python",
   "name": "python",
   "nbconvert_exporter": "python",
   "pygments_lexer": "ipython3",
   "version": "3.10.4"
  },
  "orig_nbformat": 4,
  "vscode": {
   "interpreter": {
    "hash": "26de051ba29f2982a8de78e945f0abaf191376122a1563185a90213a26c5da77"
   }
  }
 },
 "nbformat": 4,
 "nbformat_minor": 2
}
