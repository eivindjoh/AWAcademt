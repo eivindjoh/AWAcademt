{
 "cells": [
  {
   "cell_type": "code",
   "execution_count": 1,
   "metadata": {},
   "outputs": [],
   "source": [
    "# We use the request module to send HTTP requests to APIs\n",
    "# If you dont have it installed, run pip install requests \n",
    "# The documentation can be found at http://requests.readthedocs.io/\n",
    "import requests"
   ]
  },
  {
   "cell_type": "code",
   "execution_count": 11,
   "metadata": {},
   "outputs": [],
   "source": [
    "# For the exercises here we will use https://dummy.restapiexample.com/\n",
    "# Spesifically the /employee endpoint.\n",
    "\n",
    "URL = \"https://dummy.restapiexample.com/api/v1/employee/1\"\n",
    "# HTTP VERBS: GET, POST, PUT, PATCH, DELETE\n",
    "# We commonly use GET to GET data (like read in a database)\n",
    "# POST to SEND or POST data (like write to a database)"
   ]
  },
  {
   "cell_type": "code",
   "execution_count": 12,
   "metadata": {},
   "outputs": [
    {
     "name": "stdout",
     "output_type": "stream",
     "text": [
      "{'status': 'success', 'data': {'id': 1, 'employee_name': 'Tiger Nixon', 'employee_salary': 320800, 'employee_age': 61, 'profile_image': ''}, 'message': 'Successfully! Record has been fetched.'}\n"
     ]
    }
   ],
   "source": [
    "headers = {\n",
    "    'user-agent': 'Mozilla/5.0 (Windows NT 10.0; Win64; x64) AppleWebKit/537.36 (KHTML, like Gecko) Chrome/104.0.5112.81 Safari/537.36 Edg/104.0.1293.47',\n",
    "}\n",
    "# Let's GET the employees from the API\n",
    "response = requests.get(URL, headers=headers)\n",
    "# Let's see that everything went allright\n",
    "if response.ok:\n",
    "    # Let's just print the response\n",
    "    json_data = response.json()\n",
    "else:\n",
    "    print(\"Something went wrong\")\n",
    "    print(response.text)\n",
    "print(json_data)"
   ]
  },
  {
   "cell_type": "code",
   "execution_count": 15,
   "metadata": {},
   "outputs": [
    {
     "name": "stdout",
     "output_type": "stream",
     "text": [
      "Tiger Nixon\n"
     ]
    }
   ],
   "source": [
    "name = json_data[\"data\"][\"employee_name\"]\n",
    "print(name)"
   ]
  },
  {
   "cell_type": "code",
   "execution_count": 32,
   "metadata": {},
   "outputs": [
    {
     "name": "stdout",
     "output_type": "stream",
     "text": [
      "{'status': 'success', 'data': {'id': 2, 'employee_name': 'Garrett Winters', 'employee_salary': 170750, 'employee_age': 63, 'profile_image': ''}, 'message': 'Successfully! Record has been fetched.'}\n"
     ]
    }
   ],
   "source": [
    "def get_employee(id):\n",
    "    URL = f\"https://dummy.restapiexample.com/api/v1/employee/{id}\"\n",
    "    headers = {\n",
    "    'user-agent': 'Mozilla/5.0 (Windows NT 10.0; Win64; x64) AppleWebKit/537.36 (KHTML, like Gecko) Chrome/104.0.5112.81 Safari/537.36 Edg/104.0.1293.47',\n",
    "    }\n",
    "    # Let's GET the employees from the API\n",
    "    response = requests.get(URL, headers=headers)\n",
    "\n",
    "    json_data = None\n",
    "    # Let's see that everything went allright\n",
    "    if response.ok:\n",
    "        # Let's just print the response\n",
    "        json_data = response.json()\n",
    "    else:\n",
    "        return \"Something went wrong\"\n",
    "    return json_data\n",
    "    \n",
    "\n",
    "print(get_employee(2))"
   ]
  },
  {
   "cell_type": "code",
   "execution_count": 34,
   "metadata": {},
   "outputs": [
    {
     "data": {
      "text/plain": [
       "-2"
      ]
     },
     "execution_count": 34,
     "metadata": {},
     "output_type": "execute_result"
    }
   ],
   "source": [
    "def get_age_difference(emp_id_1, emp_id_2):\n",
    "    \"\"\"Returns the age difference between employee 1 and 2\"\"\"\n",
    "    employee1 = get_employee(emp_id_1)\n",
    "    employee2 = get_employee(emp_id_2)\n",
    "    age1 = int(employee1[\"data\"][\"employee_age\"])\n",
    "    age2 = int(employee2[\"data\"][\"employee_age\"])\n",
    "    return age1 - age2\n",
    "\n",
    "get_age_difference(1, 2)"
   ]
  },
  {
   "cell_type": "code",
   "execution_count": 36,
   "metadata": {},
   "outputs": [
    {
     "name": "stdout",
     "output_type": "stream",
     "text": [
      "{\"status\":\"success\",\"data\":{\"name\":\"Solan Gundersen\",\"age\":\"23\",\"salary\":\"1300000\",\"id\":2706},\"message\":\"Successfully! Record has been added.\"}\n"
     ]
    }
   ],
   "source": [
    "BASE_URL = \"https://dummy.restapiexample.com/api/v1\"\n",
    "POST_URL = \"/create\"\n",
    "\n",
    "headers = {\n",
    "    'user-agent': 'Mozilla/5.0 (Windows NT 10.0; Win64; x64) AppleWebKit/537.36 (KHTML, like Gecko) Chrome/104.0.5112.81 Safari/537.36 Edg/104.0.1293.47',\n",
    "    }\n",
    "\n",
    "data = {\n",
    "    \"name\": \"Solan Gundersen\",\n",
    "    \"age\": 23,\n",
    "    \"salary\": 1300000\n",
    "}\n",
    "\n",
    "response = requests.post(BASE_URL+POST_URL, headers=headers, data=data)\n",
    "print(response.text)"
   ]
  }
 ],
 "metadata": {
  "kernelspec": {
   "display_name": "Python 3.10.4 64-bit",
   "language": "python",
   "name": "python3"
  },
  "language_info": {
   "codemirror_mode": {
    "name": "ipython",
    "version": 3
   },
   "file_extension": ".py",
   "mimetype": "text/x-python",
   "name": "python",
   "nbconvert_exporter": "python",
   "pygments_lexer": "ipython3",
   "version": "3.10.4"
  },
  "orig_nbformat": 4,
  "vscode": {
   "interpreter": {
    "hash": "26de051ba29f2982a8de78e945f0abaf191376122a1563185a90213a26c5da77"
   }
  }
 },
 "nbformat": 4,
 "nbformat_minor": 2
}
