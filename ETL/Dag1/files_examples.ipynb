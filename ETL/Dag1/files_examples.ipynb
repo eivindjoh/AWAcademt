{
 "cells": [
  {
   "cell_type": "code",
   "execution_count": 7,
   "metadata": {},
   "outputs": [
    {
     "name": "stdout",
     "output_type": "stream",
     "text": [
      "Hello world!\n",
      "This is a text file :)\n"
     ]
    }
   ],
   "source": [
    "with open('test.txt', 'r') as myfile:\n",
    "    result = myfile.read()\n",
    "    print(result)"
   ]
  },
  {
   "cell_type": "code",
   "execution_count": 8,
   "metadata": {},
   "outputs": [
    {
     "name": "stdout",
     "output_type": "stream",
     "text": [
      "['Hello world!\\n', 'This is a text file :)']\n"
     ]
    }
   ],
   "source": [
    "with open('test.txt', 'r') as myfile:\n",
    "    print(myfile.readlines())\n",
    "    for line in myfile.readlines():\n",
    "        print(line)"
   ]
  },
  {
   "cell_type": "code",
   "execution_count": 10,
   "metadata": {},
   "outputs": [
    {
     "name": "stdout",
     "output_type": "stream",
     "text": [
      "['Hello world!\\n', 'This is a text file :)', 'This is another line']\n"
     ]
    }
   ],
   "source": [
    "with open('test.txt', 'r') as myfile:\n",
    "    lines = myfile.readlines()\n",
    "\n",
    "    lines.append('This is another line')\n",
    "\n",
    "    print(lines)\n",
    "\n",
    "    with open('out.txt', 'w') as anotherfile:\n",
    "        anotherfile.writelines(lines)"
   ]
  },
  {
   "cell_type": "code",
   "execution_count": null,
   "metadata": {},
   "outputs": [],
   "source": []
  }
 ],
 "metadata": {
  "kernelspec": {
   "display_name": "Python 3.10.4 64-bit",
   "language": "python",
   "name": "python3"
  },
  "language_info": {
   "codemirror_mode": {
    "name": "ipython",
    "version": 3
   },
   "file_extension": ".py",
   "mimetype": "text/x-python",
   "name": "python",
   "nbconvert_exporter": "python",
   "pygments_lexer": "ipython3",
   "version": "3.10.4"
  },
  "orig_nbformat": 4,
  "vscode": {
   "interpreter": {
    "hash": "26de051ba29f2982a8de78e945f0abaf191376122a1563185a90213a26c5da77"
   }
  }
 },
 "nbformat": 4,
 "nbformat_minor": 2
}
