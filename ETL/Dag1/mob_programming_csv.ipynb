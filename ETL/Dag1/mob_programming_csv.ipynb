{
 "cells": [
  {
   "cell_type": "code",
   "execution_count": 16,
   "metadata": {},
   "outputs": [
    {
     "name": "stdout",
     "output_type": "stream",
     "text": [
      "[{'Num': '1', 'Discount': '0.25', 'Total': '0.75'}, {'Num': '4', 'Discount': '1.0', 'Total': '3.0'}, {'Num': '9', 'Discount': '2.25', 'Total': '6.75'}, {'Num': '16', 'Discount': '4.0', 'Total': '12.0'}, {'Num': '25', 'Discount': '6.25', 'Total': '18.75'}, {'Num': '36', 'Discount': '9.0', 'Total': '27.0'}, {'Num': '49', 'Discount': '12.25', 'Total': '36.75'}, {'Num': '64', 'Discount': '16.0', 'Total': '48.0'}]\n"
     ]
    }
   ],
   "source": [
    "import csv\n",
    "\n",
    "\n",
    "# transform_func(1) -> {\"Num\": \"1\"}\n",
    "def transform_int(my_num):\n",
    "    return {\"Num\": str(my_num), \"Discount\": str(my_num*discount), \"Total\": str(my_num - (my_num*discount))}\n",
    "\n",
    "lines = []\n",
    "discount = 0.25\n",
    "\n",
    "with open(\"input.csv\", \"r\") as infile:\n",
    "    reader = csv.DictReader(infile)\n",
    "    for row in reader:\n",
    "        # row : {\"Num\": \"1\", \"Garbage\": 25}\n",
    "        try:\n",
    "            my_num = int(row[\"Num\"])\n",
    "        except ValueError as e:\n",
    "            print(\"Could not convert to int\")\n",
    "        squared = my_num **2\n",
    "        to_dict = transform_int(squared)\n",
    "        lines.append(to_dict)\n",
    "\n",
    "print(lines)\n"
   ]
  },
  {
   "cell_type": "code",
   "execution_count": 17,
   "metadata": {},
   "outputs": [],
   "source": [
    "with open(\"output.csv\", \"w\") as outfile:\n",
    "    writer = csv.DictWriter(outfile, lineterminator=\"\\n\", fieldnames=[\"Num\", \"Discount\", \"Total\"])\n",
    "    writer.writeheader()\n",
    "    # {\"Num\": \"1\"}\n",
    "    for dict_line in lines:\n",
    "        \n",
    "        writer.writerow(dict_line)\n",
    "\n"
   ]
  },
  {
   "cell_type": "code",
   "execution_count": 18,
   "metadata": {},
   "outputs": [
    {
     "data": {
      "text/html": [
       "<div>\n",
       "<style scoped>\n",
       "    .dataframe tbody tr th:only-of-type {\n",
       "        vertical-align: middle;\n",
       "    }\n",
       "\n",
       "    .dataframe tbody tr th {\n",
       "        vertical-align: top;\n",
       "    }\n",
       "\n",
       "    .dataframe thead th {\n",
       "        text-align: right;\n",
       "    }\n",
       "</style>\n",
       "<table border=\"1\" class=\"dataframe\">\n",
       "  <thead>\n",
       "    <tr style=\"text-align: right;\">\n",
       "      <th></th>\n",
       "      <th>Num</th>\n",
       "      <th>Discount</th>\n",
       "      <th>Total</th>\n",
       "    </tr>\n",
       "  </thead>\n",
       "  <tbody>\n",
       "    <tr>\n",
       "      <th>0</th>\n",
       "      <td>1</td>\n",
       "      <td>0.25</td>\n",
       "      <td>0.75</td>\n",
       "    </tr>\n",
       "    <tr>\n",
       "      <th>1</th>\n",
       "      <td>4</td>\n",
       "      <td>1.00</td>\n",
       "      <td>3.00</td>\n",
       "    </tr>\n",
       "    <tr>\n",
       "      <th>2</th>\n",
       "      <td>9</td>\n",
       "      <td>2.25</td>\n",
       "      <td>6.75</td>\n",
       "    </tr>\n",
       "    <tr>\n",
       "      <th>3</th>\n",
       "      <td>16</td>\n",
       "      <td>4.00</td>\n",
       "      <td>12.00</td>\n",
       "    </tr>\n",
       "    <tr>\n",
       "      <th>4</th>\n",
       "      <td>25</td>\n",
       "      <td>6.25</td>\n",
       "      <td>18.75</td>\n",
       "    </tr>\n",
       "    <tr>\n",
       "      <th>5</th>\n",
       "      <td>36</td>\n",
       "      <td>9.00</td>\n",
       "      <td>27.00</td>\n",
       "    </tr>\n",
       "    <tr>\n",
       "      <th>6</th>\n",
       "      <td>49</td>\n",
       "      <td>12.25</td>\n",
       "      <td>36.75</td>\n",
       "    </tr>\n",
       "    <tr>\n",
       "      <th>7</th>\n",
       "      <td>64</td>\n",
       "      <td>16.00</td>\n",
       "      <td>48.00</td>\n",
       "    </tr>\n",
       "  </tbody>\n",
       "</table>\n",
       "</div>"
      ],
      "text/plain": [
       "   Num  Discount  Total\n",
       "0    1      0.25   0.75\n",
       "1    4      1.00   3.00\n",
       "2    9      2.25   6.75\n",
       "3   16      4.00  12.00\n",
       "4   25      6.25  18.75\n",
       "5   36      9.00  27.00\n",
       "6   49     12.25  36.75\n",
       "7   64     16.00  48.00"
      ]
     },
     "execution_count": 18,
     "metadata": {},
     "output_type": "execute_result"
    }
   ],
   "source": [
    "import pandas as pd\n",
    "\n",
    "df = pd.read_csv('output.csv')\n",
    "df"
   ]
  },
  {
   "cell_type": "code",
   "execution_count": null,
   "metadata": {},
   "outputs": [],
   "source": []
  }
 ],
 "metadata": {
  "kernelspec": {
   "display_name": "Python 3.10.4 64-bit",
   "language": "python",
   "name": "python3"
  },
  "language_info": {
   "codemirror_mode": {
    "name": "ipython",
    "version": 3
   },
   "file_extension": ".py",
   "mimetype": "text/x-python",
   "name": "python",
   "nbconvert_exporter": "python",
   "pygments_lexer": "ipython3",
   "version": "3.10.4"
  },
  "orig_nbformat": 4,
  "vscode": {
   "interpreter": {
    "hash": "26de051ba29f2982a8de78e945f0abaf191376122a1563185a90213a26c5da77"
   }
  }
 },
 "nbformat": 4,
 "nbformat_minor": 2
}
