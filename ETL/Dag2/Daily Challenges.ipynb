{
 "cells": [
  {
   "cell_type": "markdown",
   "metadata": {},
   "source": [
    "### 1\n",
    "\n",
    "```Python\n",
    "list1 = [1, 2, 2, 300, 4, 5, 'foo', 6, 7, 'bar', 'foo']\n",
    "```\n",
    "\n",
    "Write a function that returns a list of all items in the input list above that are numbers."
   ]
  },
  {
   "cell_type": "code",
   "execution_count": 13,
   "metadata": {},
   "outputs": [
    {
     "name": "stdout",
     "output_type": "stream",
     "text": [
      "[1, 2, 2, 300, 4, 5, 6, 7]\n"
     ]
    }
   ],
   "source": [
    "def numbers(data):\n",
    "    new_list = [x for x in data if isinstance(x, int)]\n",
    "    return new_list\n",
    "\n",
    "\n",
    "list1 = [1, 2, 2, 300, 4, 5, 'foo', 6, 7, 'bar', 'foo']\n",
    "\n",
    "print(numbers(list1))\n"
   ]
  },
  {
   "cell_type": "markdown",
   "metadata": {},
   "source": [
    "2\n",
    "\n",
    "lol = [[1,2,'foo'],[6,3,{'a':1}],[],['bar']]\n",
    "\n",
    "Write a function that returns a list like the one below for the input list above.\n",
    "\n",
    "[[1,2],[6,3],[],[]]"
   ]
  },
  {
   "cell_type": "code",
   "execution_count": 14,
   "metadata": {},
   "outputs": [
    {
     "name": "stdout",
     "output_type": "stream",
     "text": [
      "[[1, 2], [6, 3], [], []]\n"
     ]
    }
   ],
   "source": [
    "lol = [[1,2,'foo'],[6,3,{'a':1}],[],['bar']]\n",
    "\n",
    "def remove_from_list(data):\n",
    "    new_list = []\n",
    "    for i in data:\n",
    "        cleaned = [x for x in i if isinstance(x, int)]\n",
    "        new_list.append(cleaned)\n",
    "    return new_list\n",
    "\n",
    "print(remove_from_list(lol))"
   ]
  },
  {
   "cell_type": "markdown",
   "metadata": {},
   "source": [
    "3\n",
    "Create a new version of the function from exercise 2 to instead produce the below input (that is, it should squash the list-of-lists into a single list).\n",
    "\n",
    "[1,2,6,3]"
   ]
  },
  {
   "cell_type": "code",
   "execution_count": 16,
   "metadata": {},
   "outputs": [
    {
     "name": "stdout",
     "output_type": "stream",
     "text": [
      "[1, 2, 6, 3]\n"
     ]
    }
   ],
   "source": [
    "lol = [[1,2,'foo'],[6,3,{'a':1}],[],['bar']]\n",
    "\n",
    "def remove_from_list(data):\n",
    "    new_list = []\n",
    "    for i in data:\n",
    "        for x in i:\n",
    "            if isinstance(x, int):\n",
    "                new_list.append(x)\n",
    "            else:\n",
    "                continue\n",
    "    return new_list\n",
    "\n",
    "print(remove_from_list(lol))"
   ]
  },
  {
   "cell_type": "markdown",
   "metadata": {},
   "source": [
    "4\n",
    "Write a function that returns a list of all items in the list below that are numbers.\n",
    "\n",
    "l2 = [1, 3.14, 'foo', {'bar': '5'}, 1337.42]"
   ]
  },
  {
   "cell_type": "code",
   "execution_count": 36,
   "metadata": {},
   "outputs": [
    {
     "name": "stdout",
     "output_type": "stream",
     "text": [
      "['foo', 'bar']\n"
     ]
    }
   ],
   "source": [
    "l2 = [1, 3.14, 'foo', {'bar': '5'}, 1337.42]\n",
    "\n",
    "def string_items(data):\n",
    "    new_list = []\n",
    "    for i in data:\n",
    "        if isinstance(i, dict):\n",
    "            for k in list(i.keys()):\n",
    "                try:\n",
    "                    if int(k):\n",
    "                        continue\n",
    "                except ValueError:\n",
    "                    new_list.append(k)\n",
    "                    \n",
    "            for v in list(i.values()):\n",
    "                try:\n",
    "                    if int(v):\n",
    "                        continue\n",
    "                except ValueError:\n",
    "                    new_list.append(v)\n",
    "        elif isinstance(i, int) or isinstance(i, float):\n",
    "            continue\n",
    "        else:\n",
    "            new_list.append(i)\n",
    "            \n",
    "    return new_list\n",
    "\n",
    "print(string_items(l2))\n",
    "\n"
   ]
  },
  {
   "cell_type": "markdown",
   "metadata": {},
   "source": [
    "5\n",
    "Write a function that returns the index of all items in list below that are not numbers.\n",
    "\n",
    "l2 = [1, 3.14, 'foo', {'bar': '5'}, 1337.42]"
   ]
  },
  {
   "cell_type": "code",
   "execution_count": null,
   "metadata": {},
   "outputs": [],
   "source": []
  }
 ],
 "metadata": {
  "kernelspec": {
   "display_name": "Python 3.10.4 64-bit",
   "language": "python",
   "name": "python3"
  },
  "language_info": {
   "codemirror_mode": {
    "name": "ipython",
    "version": 3
   },
   "file_extension": ".py",
   "mimetype": "text/x-python",
   "name": "python",
   "nbconvert_exporter": "python",
   "pygments_lexer": "ipython3",
   "version": "3.10.4"
  },
  "orig_nbformat": 4,
  "vscode": {
   "interpreter": {
    "hash": "26de051ba29f2982a8de78e945f0abaf191376122a1563185a90213a26c5da77"
   }
  }
 },
 "nbformat": 4,
 "nbformat_minor": 2
}
