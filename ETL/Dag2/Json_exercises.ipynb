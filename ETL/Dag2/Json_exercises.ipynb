{
 "cells": [
  {
   "cell_type": "code",
   "execution_count": 1,
   "metadata": {},
   "outputs": [],
   "source": [
    "import json"
   ]
  },
  {
   "cell_type": "code",
   "execution_count": 12,
   "metadata": {},
   "outputs": [
    {
     "name": "stdout",
     "output_type": "stream",
     "text": [
      "<class 'list'>\n"
     ]
    }
   ],
   "source": [
    "# Load the file to a dict in Python\n",
    "with open(\"users.json\", \"r\") as fp:\n",
    "    users = json.load(fp)\n",
    "    print(type(res))"
   ]
  },
  {
   "cell_type": "code",
   "execution_count": 15,
   "metadata": {},
   "outputs": [
    {
     "name": "stdout",
     "output_type": "stream",
     "text": [
      "['Mysil Bergsprekken', 'Reodor Felgen', 'Rudolf Blodstrupmoen']\n"
     ]
    }
   ],
   "source": [
    "# Create a function all_names(user_dict) that accepts a dict as input and returns all names as a list \n",
    "# I.e it should return [\"Mysil Bergsprekken\", \"Reodor Felgen\", \"Rudolf Blodstrupmoen\"]\n",
    "\n",
    "def all_names(user_dicts):\n",
    "    names = []\n",
    "    for user_dict in user_dicts:\n",
    "        names.append(user_dict[\"name\"])\n",
    "    return names\n",
    "\n",
    "print(all_names(users))\n",
    "    "
   ]
  },
  {
   "cell_type": "code",
   "execution_count": 63,
   "metadata": {},
   "outputs": [
    {
     "name": "stdout",
     "output_type": "stream",
     "text": [
      "['Mysil Bergsprekken', 'Reodor Felgen', 'Rudolf Blodstrupmoen']\n",
      "['Reodor Felgen']\n"
     ]
    }
   ],
   "source": [
    "# Create a function find_hobbies(user_dict, hobby). It should return the name of all users that has the given \n",
    "# hobby. I.e find_hobbies(user_dict, \"Cars\") should return [\"Mysil Bergsprekken\", \"Reodor Felgen\", \"Rudolf \n",
    "# Blodstrupmoen\"], while find_hobbies(user_dict, \"Grand Prix\") should return [\"Reodor Felgen\"]\n",
    "\n",
    "def find_hobbies(user_dicts, hobby):\n",
    "    names = []\n",
    "    for user_dict in user_dicts:\n",
    "        if hobby in user_dict[\"hobbies\"]:\n",
    "            names.append(user_dict[\"name\"])\n",
    "    return names\n",
    "\n",
    "print(find_hobbies(users, \"Cars\"))\n",
    "print(find_hobbies(users, \"Grand Prix\"))\n"
   ]
  },
  {
   "cell_type": "code",
   "execution_count": 48,
   "metadata": {},
   "outputs": [],
   "source": [
    "# Create a new function create_hobby_dict(user_dict) that returns a dictionary that lists each name of each hobby \n",
    "# with hobby as the key. create_hobby_dict(user_dict) should return { \"Cars\" : [\"Mysil Bergsprekken\", \n",
    "# \"Reodor Felgen\", \"Rudolf Blodstrupmoen\"], \"Grand Prix\" : [\"Reodor Felgen\"], \"Sabotaging\" : \n",
    "# [\"Rudolf Blodstrupmoen\"], }\n",
    "\n",
    "def create_hobby_dict(user_dicts):\n",
    "    hobby_dict = {}\n",
    "\n",
    "    for user_dict in user_dicts:\n",
    "        for hobby in user_dict[\"hobbies\"]:\n",
    "            if hobby not in hobby_dict:\n",
    "                hobby_dict[hobby] = [user_dict[\"name\"]]\n",
    "            else:\n",
    "                hobby_dict[hobby].append(user_dict[\"name\"])\n",
    "        \n",
    "    return hobby_dict\n",
    "\n",
    "hobbies = create_hobby_dict(users)\n",
    "\n"
   ]
  },
  {
   "cell_type": "code",
   "execution_count": 49,
   "metadata": {},
   "outputs": [],
   "source": [
    "# Write the new dict you just created to a new json file hobbies.json.\n",
    "with open(\"hobbies.json\", \"w\") as fp:\n",
    "    json.dump(hobbies, fp)"
   ]
  },
  {
   "cell_type": "code",
   "execution_count": 70,
   "metadata": {},
   "outputs": [
    {
     "name": "stdout",
     "output_type": "stream",
     "text": [
      "{'milk': '300ml'}\n"
     ]
    }
   ],
   "source": [
    "def to_recipe(user_input):\n",
    "    to_recipe = {}\n",
    "    key_value = user_input.split(\" of \")\n",
    "    to_recipe[key_value[1]] = key_value[0]\n",
    "    return to_recipe\n",
    "\n",
    "print(to_recipe('300ml of milk'))\n",
    "\n",
    "    "
   ]
  },
  {
   "cell_type": "code",
   "execution_count": null,
   "metadata": {},
   "outputs": [],
   "source": []
  }
 ],
 "metadata": {
  "kernelspec": {
   "display_name": "Python 3.10.4 64-bit",
   "language": "python",
   "name": "python3"
  },
  "language_info": {
   "codemirror_mode": {
    "name": "ipython",
    "version": 3
   },
   "file_extension": ".py",
   "mimetype": "text/x-python",
   "name": "python",
   "nbconvert_exporter": "python",
   "pygments_lexer": "ipython3",
   "version": "3.10.4"
  },
  "orig_nbformat": 4,
  "vscode": {
   "interpreter": {
    "hash": "26de051ba29f2982a8de78e945f0abaf191376122a1563185a90213a26c5da77"
   }
  }
 },
 "nbformat": 4,
 "nbformat_minor": 2
}
