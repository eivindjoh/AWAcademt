{
 "cells": [
  {
   "cell_type": "code",
   "execution_count": 2,
   "metadata": {},
   "outputs": [
    {
     "name": "stderr",
     "output_type": "stream",
     "text": [
      "'pip' is not recognized as an internal or external command,\n",
      "operable program or batch file.\n"
     ]
    }
   ],
   "source": [
    "# This is the package we will be using for interacting with xml\n",
    "!pip install lxml\n",
    "from lxml import etree"
   ]
  },
  {
   "cell_type": "code",
   "execution_count": 5,
   "metadata": {},
   "outputs": [
    {
     "name": "stdout",
     "output_type": "stream",
     "text": [
      "b'<root/>\\n'\n"
     ]
    }
   ],
   "source": [
    "# All XML objects have a root element\n",
    "root = etree.Element(\"root\")\n",
    "\n",
    "# Lets define a function that makes it a bit easier to visualize the tree\n",
    "def print_tree(root):\n",
    "    print(etree.tostring(root, pretty_print=True))\n",
    "\n",
    "# We can use the function like this:\n",
    "print_tree(root)"
   ]
  },
  {
   "cell_type": "code",
   "execution_count": 7,
   "metadata": {},
   "outputs": [
    {
     "name": "stdout",
     "output_type": "stream",
     "text": [
      "b'<root>\\n  <child1/>\\n  <child2/>\\n  <child3/>\\n</root>\\n'\n"
     ]
    }
   ],
   "source": [
    "# We can add elements to the root by using SubElement\n",
    "etree.SubElement(root, \"child1\")\n",
    "etree.SubElement(root, \"child2\")\n",
    "etree.SubElement(root, \"child3\")\n",
    "\n",
    "print_tree(root)"
   ]
  },
  {
   "cell_type": "code",
   "execution_count": 9,
   "metadata": {},
   "outputs": [
    {
     "name": "stdout",
     "output_type": "stream",
     "text": [
      "<Element child1 at 0x1d5c1820180>\n",
      "child1\n",
      "<Element child2 at 0x1d5c1822480>\n",
      "child2\n",
      "<Element child3 at 0x1d5c18237c0>\n",
      "child3\n"
     ]
    }
   ],
   "source": [
    "# We can iterate over all the children of a node by using a for loop\n",
    "\n",
    "for child in root:\n",
    "    print(child) # This will print the object, i.e <Element child1 at 0x1d5c17f0080\n",
    "    print(child.tag) # This will print the child's name (for instance \"child1\")\n",
    "\n",
    "    "
   ]
  },
  {
   "cell_type": "code",
   "execution_count": 46,
   "metadata": {},
   "outputs": [
    {
     "name": "stdout",
     "output_type": "stream",
     "text": [
      "<Element to at 0x1d5bf5b5d80>\n",
      "<Element from at 0x1d5c1912000>\n",
      "<Element heading at 0x1d5c1906280>\n",
      "<Element body at 0x1d5bf5b5d80>\n"
     ]
    }
   ],
   "source": [
    "# We can also use the lxml package to read xml files into a tree object\n",
    "# Download this file https://www.w3schools.com/xml/note.xml and place it in the same folder as this notebook \n",
    "\n",
    "# First we have to open the file and get the xml as a string\n",
    "def xml_from_file(filename):\n",
    "    with open(filename, \"r\", encoding=\"utf-8\") as f:\n",
    "        xmlstring = f.read()\n",
    "        return etree.fromstring(xmlstring.encode())\n",
    "\n",
    "# Lets try to see if we can read a simple xml string\n",
    "root = xml_from_file(\"note.xml\")\n",
    "# We can see that we are able to print its children\n",
    "for child in root:\n",
    "    print(child)\n"
   ]
  },
  {
   "cell_type": "code",
   "execution_count": 47,
   "metadata": {},
   "outputs": [
    {
     "name": "stdout",
     "output_type": "stream",
     "text": [
      "to Tove\n",
      "from Jani\n",
      "heading Reminder\n",
      "body Don't forget me this weekend!\n"
     ]
    }
   ],
   "source": [
    "# We can also access the elements using its tags:\n",
    "for child in root:\n",
    "    print(child.tag, child.text)"
   ]
  },
  {
   "cell_type": "code",
   "execution_count": 48,
   "metadata": {},
   "outputs": [
    {
     "name": "stdout",
     "output_type": "stream",
     "text": [
      "to Tove\n"
     ]
    }
   ],
   "source": [
    "# If you want a specific field for all children, you can use iter\n",
    "for child in root.iter(\"to\"):\n",
    "    print(child.tag, child.text)"
   ]
  },
  {
   "cell_type": "code",
   "execution_count": 49,
   "metadata": {},
   "outputs": [
    {
     "name": "stdout",
     "output_type": "stream",
     "text": [
      "PLANT [<Element COMMON at 0x1d5c1941a80>, <Element BOTANICAL at 0x1d5c19ac480>, <Element ZONE at 0x1d5c1abf000>, <Element LIGHT at 0x1d5c1abce40>, <Element PRICE at 0x1d5c1abd840>, <Element AVAILABILITY at 0x1d5c1aae240>]\n",
      "PLANT [<Element COMMON at 0x1d5c192ce40>, <Element BOTANICAL at 0x1d5c1abdd40>, <Element ZONE at 0x1d5c1abf000>, <Element LIGHT at 0x1d5c1abce40>, <Element PRICE at 0x1d5c1abd840>, <Element AVAILABILITY at 0x1d5c1aacd80>]\n"
     ]
    }
   ],
   "source": [
    "# ... but this was just a reaally small xml file\n",
    "# Lets try with a bigger one: https://www.w3schools.com/xml/plant_catalog.xml \n",
    "# We can reuse the functions we created above\n",
    "root = xml_from_file(\"plant_catalog.xml\")\n",
    "for child in root[0:2]: # Print the first two children\n",
    "    print(child.tag, child.getchildren())\n",
    "\n"
   ]
  },
  {
   "cell_type": "code",
   "execution_count": 52,
   "metadata": {},
   "outputs": [
    {
     "name": "stdout",
     "output_type": "stream",
     "text": [
      "Bloodroot\n",
      "Columbine\n",
      "Marsh Marigold\n",
      "Cowslip\n",
      "Dutchman's-Breeches\n",
      "Ginger, Wild\n",
      "Hepatica\n",
      "Liverleaf\n",
      "Jack-In-The-Pulpit\n",
      "Mayapple\n",
      "Phlox, Woodland\n",
      "Phlox, Blue\n",
      "Spring-Beauty\n",
      "Trillium\n",
      "Wake Robin\n",
      "Violet, Dog-Tooth\n",
      "Trout Lily\n",
      "Adder's-Tongue\n",
      "Anemone\n",
      "Grecian Windflower\n",
      "Bee Balm\n",
      "Bergamot\n",
      "Black-Eyed Susan\n",
      "Buttercup\n",
      "Crowfoot\n",
      "Butterfly Weed\n",
      "Cinquefoil\n",
      "Primrose\n",
      "Gentian\n",
      "Blue Gentian\n",
      "Jacob's Ladder\n",
      "Greek Valerian\n",
      "California Poppy\n",
      "Shooting Star\n",
      "Snakeroot\n",
      "Cardinal Flower\n"
     ]
    }
   ],
   "source": [
    "# Lets get the common names of all plants:\n",
    "for child in root.iter(\"COMMON\"):\n",
    "    print(child.text)"
   ]
  },
  {
   "cell_type": "code",
   "execution_count": 42,
   "metadata": {},
   "outputs": [
    {
     "name": "stdout",
     "output_type": "stream",
     "text": [
      "COMMON Bloodroot\n",
      "BOTANICAL Sanguinaria canadensis\n",
      "ZONE 4\n",
      "LIGHT Mostly Shady\n",
      "PRICE $2.44\n",
      "AVAILABILITY 031599\n"
     ]
    }
   ],
   "source": [
    "# From the output above we can see that this xml is deeper - it has children that has children!\n",
    "# Lets try to print a single child:\n",
    "\n",
    "for child in root[0]: #Select only the first child of root and print its children\n",
    "    print(child.tag, child.text)\n"
   ]
  },
  {
   "cell_type": "code",
   "execution_count": 43,
   "metadata": {},
   "outputs": [
    {
     "name": "stdout",
     "output_type": "stream",
     "text": [
      "[{'COMMON': 'Bloodroot', 'BOTANICAL': 'Sanguinaria canadensis', 'ZONE': '4', 'LIGHT': 'Mostly Shady', 'PRICE': '$2.44', 'AVAILABILITY': '031599'}, {'COMMON': 'Bloodroot', 'BOTANICAL': 'Sanguinaria canadensis', 'ZONE': '4', 'LIGHT': 'Mostly Shady', 'PRICE': '$2.44', 'AVAILABILITY': '031599'}, {'COMMON': 'Bloodroot', 'BOTANICAL': 'Sanguinaria canadensis', 'ZONE': '4', 'LIGHT': 'Mostly Shady', 'PRICE': '$2.44', 'AVAILABILITY': '031599'}]\n"
     ]
    }
   ],
   "source": [
    "# Now that we know what a single plant looks like, we can try to loop through every child and map it to a dict\n",
    "# We will end up with a list of dicts, which is perfect for our csv.DictWriter! \n",
    "\n",
    "rows = []\n",
    "for plant in root:\n",
    "    plantdict = {} # Create a new plant dict for each row\n",
    "    for attributes in plant:\n",
    "        # print(attributes.tag, attributes.text)\n",
    "        plantdict[attributes.tag] = attributes.text\n",
    "        rows.append(plantdict)\n",
    "print(rows[0:3])# Print some of the rows as a demo\n"
   ]
  },
  {
   "cell_type": "code",
   "execution_count": 36,
   "metadata": {},
   "outputs": [],
   "source": [
    "# Now that we have a list of dicts we can use it to write to a csv\n",
    "\n",
    "import csv \n",
    "\n",
    "with open(\"plants.csv\", \"w\") as f:\n",
    "    writer = csv.DictWriter(f, fieldnames=[\"COMMON\", \"BOTANICAL\", \"PRICE\", \"LIGHT\", \"AVAILABILITY\", \"ZONE\"])\n",
    "    writer.writeheader()\n",
    "    writer.writerows(rows)"
   ]
  },
  {
   "cell_type": "markdown",
   "metadata": {},
   "source": [
    "## Exercise\n",
    "\n",
    "1. Load [this](https://www.w3schools.com/xml/simple.xml) CSV and play around with it. Try to print some of the elements to get a feel of how this XML looks.\n",
    "2. Iterate over all the children of the root node and print the Food name of each menu item. \n",
    "3. Create a function that accepts input from the user (using input()) and finds the Food item that has the same name as the one the user specified. E.g if the user writes \"French Toast\", the function should return \n",
    "```\n",
    "name: French Toast\n",
    "price: $4.50\n",
    "description: Thick slices made from our homemade sourdough bread\n",
    "calories: 600\n",
    "```\n",
    "If there is no item with the same name, it should return\n",
    "```\n",
    "Sorry we don't have that food!\n",
    "```\n",
    "4. Iterate through all the items to find the item with the highest price.\n",
    "Hint: `\"$4.50\".strip('$')` removes the dollar part of the string, so that you can convert it to float for comparison\n",
    "5. Write all the Food that costs over $6 on the menu to a CSV with columns `name, price, description,calories`"
   ]
  },
  {
   "cell_type": "code",
   "execution_count": 3,
   "metadata": {},
   "outputs": [],
   "source": [
    "def xml_from_file(filename):\n",
    "    with open(filename, \"r\", encoding=\"utf-8\") as f:\n",
    "        xmlstring = f.read()\n",
    "        return etree.fromstring(xmlstring.encode())\n",
    "\n",
    "file = xml_from_file('breakfast_menu.xml')"
   ]
  },
  {
   "cell_type": "code",
   "execution_count": 29,
   "metadata": {},
   "outputs": [
    {
     "name": "stdout",
     "output_type": "stream",
     "text": [
      "name Belgian Waffles\n",
      "price $5.95\n",
      "description Two of our famous Belgian Waffles with plenty of real maple syrup\n",
      "calories 650\n"
     ]
    }
   ],
   "source": [
    "for child in file[0]:\n",
    "    print(child.tag, child.text)"
   ]
  },
  {
   "cell_type": "code",
   "execution_count": 35,
   "metadata": {},
   "outputs": [
    {
     "name": "stdout",
     "output_type": "stream",
     "text": [
      "Belgian Waffles\n",
      "Strawberry Belgian Waffles\n",
      "Berry-Berry Belgian Waffles\n",
      "French Toast\n",
      "Homestyle Breakfast\n"
     ]
    }
   ],
   "source": [
    "def print_names(file):\n",
    "    for child in file.iter('name'):\n",
    "        print(child.text)\n",
    "\n",
    "print_names(file)"
   ]
  },
  {
   "cell_type": "code",
   "execution_count": 65,
   "metadata": {},
   "outputs": [
    {
     "name": "stdout",
     "output_type": "stream",
     "text": [
      "name French Toast\n",
      "price $4.50\n",
      "description Thick slices made from our homemade sourdough bread\n",
      "calories 600\n",
      "Sorry, we don't have that food\n"
     ]
    }
   ],
   "source": [
    "user_input = input('Order: ').strip().title()\n",
    "\n",
    "def child_tags(file, i):\n",
    "    for child in file[i]:\n",
    "        print(child.tag, child.text)\n",
    "\n",
    "def get_food(file, user_input):\n",
    "    for count, child in enumerate(file.iter('name')):\n",
    "        if user_input == child.text:\n",
    "            child_tags(file, count)\n",
    "        else:\n",
    "            continue"
   ]
  },
  {
   "cell_type": "code",
   "execution_count": 7,
   "metadata": {},
   "outputs": [
    {
     "name": "stdout",
     "output_type": "stream",
     "text": [
      "name Strawberry Belgian Waffles\n",
      "price $7.95\n",
      "description Light Belgian waffles covered with strawberries and whipped cream\n",
      "calories 900\n"
     ]
    }
   ],
   "source": [
    "def get_food_names(file):\n",
    "    food_names = []\n",
    "    for child in file.iter('name'):\n",
    "        food_names.append(child.text)\n",
    "    return food_names\n",
    "\n",
    "def test_input(user_input, food_names):\n",
    "    if user_input not in food_names:\n",
    "        return True\n",
    "\n",
    "def print_food(file, user_input):\n",
    "    index = food_list.index(user_input)\n",
    "    for child in file[index]:\n",
    "        print(child.tag, child.text)\n",
    "\n",
    "\n",
    "user_input = input('Choice: ').strip().title()\n",
    "food_list = get_food_names(file)\n",
    "if test_input(user_input, food_list):\n",
    "    print(\"Sorry, we don't have that food\")\n",
    "else:\n",
    "    print_food(file, user_input)\n",
    "\n",
    "\n"
   ]
  },
  {
   "cell_type": "code",
   "execution_count": null,
   "metadata": {},
   "outputs": [],
   "source": []
  }
 ],
 "metadata": {
  "kernelspec": {
   "display_name": "Python 3.10.4 64-bit",
   "language": "python",
   "name": "python3"
  },
  "language_info": {
   "codemirror_mode": {
    "name": "ipython",
    "version": 3
   },
   "file_extension": ".py",
   "mimetype": "text/x-python",
   "name": "python",
   "nbconvert_exporter": "python",
   "pygments_lexer": "ipython3",
   "version": "3.10.4"
  },
  "orig_nbformat": 4,
  "vscode": {
   "interpreter": {
    "hash": "26de051ba29f2982a8de78e945f0abaf191376122a1563185a90213a26c5da77"
   }
  }
 },
 "nbformat": 4,
 "nbformat_minor": 2
}
