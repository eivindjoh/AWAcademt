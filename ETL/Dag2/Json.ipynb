{
 "cells": [
  {
   "cell_type": "code",
   "execution_count": 3,
   "metadata": {},
   "outputs": [],
   "source": [
    "import json\n",
    "from datetime import date"
   ]
  },
  {
   "cell_type": "code",
   "execution_count": 16,
   "metadata": {},
   "outputs": [],
   "source": [
    "pupil = {\n",
    "    \"name\": \"Test Testesen\",\n",
    "    \"grade\": 5,\n",
    "    \"address\": {\n",
    "        \"city\": \"Oslo\",\n",
    "        \"zipcode\": \"0366\",\n",
    "        \"street_name\": \"Bogstadveien\",\n",
    "        \"street_number\": \"75A\"\n",
    "    },\n",
    "    \"subjects\": [\"ETL Intro\", \"Python\", \"Machine Learning\"],\n",
    "    \"birthdate\": date(1979, 2, 6).strftime(\"%Y-%m-%d\"),\n",
    "}"
   ]
  },
  {
   "cell_type": "code",
   "execution_count": 17,
   "metadata": {},
   "outputs": [],
   "source": [
    "# Two methods of writing to file\n",
    "# json.dump and json.dumps\n",
    "# json.dump() Requires an object and a file, writes to file\n",
    "# json.dumps() Requires an object, returns a string\n",
    "\n",
    "with open(\"pupil_out.json\", \"w\") as fp:\n",
    "    json.dump(pupil, fp)"
   ]
  },
  {
   "cell_type": "code",
   "execution_count": 18,
   "metadata": {},
   "outputs": [],
   "source": [
    "pupils = [\n",
    "    {\n",
    "    \"name\": \"Test Testesen\",\n",
    "    \"grade\": 5,\n",
    "    \"address\": {\n",
    "        \"city\": \"Oslo\",\n",
    "        \"zipcode\": \"0366\",\n",
    "        \"street_name\": \"Bogstadveien\",\n",
    "        \"street_number\": \"75A\"\n",
    "    },\n",
    "    \"subjects\": [\"ETL Intro\", \"Python\", \"Machine Learning\"],\n",
    "    \"birthdate\": date(1979, 2, 6).strftime(\"%Y-%m-%d\"),\n",
    "},\n",
    "{\n",
    "    \"name\": \"Slask Slaskesen\",\n",
    "    \"grade\": 2,\n",
    "    \"address\": {\n",
    "        \"city\": \"Oslo\",\n",
    "        \"zipcode\": \"0570\",\n",
    "        \"street_name\": \"Camilla Collets Gate\",\n",
    "        \"street_number\": \"19C\"\n",
    "    },\n",
    "    \"subjects\": [\"SQL Intor\", \"Java\"],\n",
    "    \"birthdate\": date(1998, 10, 5).strftime(\"%Y-%m-%d\"),\n",
    "}\n",
    "]"
   ]
  },
  {
   "cell_type": "code",
   "execution_count": 19,
   "metadata": {},
   "outputs": [],
   "source": [
    "with open(\"pupils.json\", \"w\") as fp:\n",
    "    json.dump(pupils, fp)"
   ]
  },
  {
   "cell_type": "code",
   "execution_count": 20,
   "metadata": {},
   "outputs": [
    {
     "data": {
      "text/plain": [
       "'Oslo'"
      ]
     },
     "execution_count": 20,
     "metadata": {},
     "output_type": "execute_result"
    }
   ],
   "source": [
    "pupil[\"address\"][\"city\"]"
   ]
  },
  {
   "cell_type": "code",
   "execution_count": 26,
   "metadata": {},
   "outputs": [
    {
     "data": {
      "text/plain": [
       "'0366'"
      ]
     },
     "execution_count": 26,
     "metadata": {},
     "output_type": "execute_result"
    }
   ],
   "source": [
    "pupil[\"address\"][\"zipcode\"]\n",
    "pupils[0][\"address\"][\"zipcode\"] # disse to finner zipcode fra pupil og pupils"
   ]
  },
  {
   "cell_type": "code",
   "execution_count": 27,
   "metadata": {},
   "outputs": [
    {
     "data": {
      "text/plain": [
       "'Java'"
      ]
     },
     "execution_count": 27,
     "metadata": {},
     "output_type": "execute_result"
    }
   ],
   "source": [
    "pupils[1][\"subjects\"][1] # finner \"java\" i json fila"
   ]
  },
  {
   "cell_type": "code",
   "execution_count": 28,
   "metadata": {},
   "outputs": [
    {
     "name": "stdout",
     "output_type": "stream",
     "text": [
      "Test Testesen\n",
      "Slask Slaskesen\n"
     ]
    }
   ],
   "source": [
    "for pupil_dict in pupils:\n",
    "    print(pupil_dict[\"name\"])\n",
    "\n",
    "    "
   ]
  },
  {
   "cell_type": "code",
   "execution_count": 29,
   "metadata": {},
   "outputs": [
    {
     "name": "stdout",
     "output_type": "stream",
     "text": [
      "<class 'dict'>\n",
      "{'name': 'Test Testesen', 'grade': 5, 'address': {'city': 'Oslo', 'zipcode': '0366', 'street_name': 'Bogstadveien', 'street_number': '75A'}, 'subjects': ['ETL Intro', 'Python', 'Machine Learning'], 'birthdate': '1979-02-06'}\n"
     ]
    }
   ],
   "source": [
    "# json.load() fp as a parameter\n",
    "# json.loads() string as parameter\n",
    "with open(\"pupil_out.json\", \"r\") as fp:\n",
    "    jsonstring = fp.read()\n",
    "    res = json.loads(jsonstring)\n",
    "    print(type(res))\n",
    "    print(res)\n"
   ]
  },
  {
   "cell_type": "code",
   "execution_count": 30,
   "metadata": {},
   "outputs": [
    {
     "name": "stdout",
     "output_type": "stream",
     "text": [
      "<class 'dict'>\n",
      "{'name': 'Test Testesen', 'grade': 5, 'address': {'city': 'Oslo', 'zipcode': '0366', 'street_name': 'Bogstadveien', 'street_number': '75A'}, 'subjects': ['ETL Intro', 'Python', 'Machine Learning'], 'birthdate': '1979-02-06'}\n"
     ]
    }
   ],
   "source": [
    "with open(\"pupil_out.json\", \"r\") as fp:\n",
    "    res = json.load(fp)\n",
    "    print(type(res))\n",
    "    print(res)"
   ]
  },
  {
   "cell_type": "code",
   "execution_count": null,
   "metadata": {},
   "outputs": [],
   "source": []
  }
 ],
 "metadata": {
  "kernelspec": {
   "display_name": "Python 3.10.4 64-bit",
   "language": "python",
   "name": "python3"
  },
  "language_info": {
   "codemirror_mode": {
    "name": "ipython",
    "version": 3
   },
   "file_extension": ".py",
   "mimetype": "text/x-python",
   "name": "python",
   "nbconvert_exporter": "python",
   "pygments_lexer": "ipython3",
   "version": "3.10.4"
  },
  "orig_nbformat": 4,
  "vscode": {
   "interpreter": {
    "hash": "26de051ba29f2982a8de78e945f0abaf191376122a1563185a90213a26c5da77"
   }
  }
 },
 "nbformat": 4,
 "nbformat_minor": 2
}
