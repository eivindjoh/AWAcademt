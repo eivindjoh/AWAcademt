{
 "cells": [
  {
   "cell_type": "code",
   "execution_count": 1,
   "metadata": {},
   "outputs": [
    {
     "name": "stdout",
     "output_type": "stream",
     "text": [
      "['QUOTE_MINIMAL', 'QUOTE_ALL', 'QUOTE_NONNUMERIC', 'QUOTE_NONE', 'Error', 'Dialect', '__doc__', 'excel', 'excel_tab', 'field_size_limit', 'reader', 'writer', 'register_dialect', 'get_dialect', 'list_dialects', 'Sniffer', 'unregister_dialect', '__version__', 'DictReader', 'DictWriter', 'unix_dialect']\n"
     ]
    }
   ],
   "source": [
    "import csv\n",
    "\n",
    "print(csv.__all__)"
   ]
  },
  {
   "cell_type": "code",
   "execution_count": 2,
   "metadata": {},
   "outputs": [],
   "source": [
    "#!pip install psycopg2\n",
    "import psycopg2\n",
    "# https://hub.docker.com/_/postgres/\n",
    "# Run this first: \n",
    "# docker run --name my-db -e POSTGRES_PASSWORD=mysecretpassword -d postgres -L 5432:5432\n",
    "# Or use docker desktop with 5432 as host port and environment variable POSTGRES_PASSWORD=mysecretpassword\n",
    "\n",
    "\n",
    "# See https://www.psycopg.org/docs/usage.html for usage of psycopg2\n",
    "conn = psycopg2.connect(\"dbname=postgres user=postgres password=mysecretpassword\", port=5544)\n",
    "# Open a cursor to the database - remember to close this after you have done everything!\n",
    "\n",
    "cur = conn.cursor()\n",
    "\n",
    "# If something goes wrong (you get transactionerror)- use the command below\n",
    "# cur.execute(\"rollback\") "
   ]
  },
  {
   "cell_type": "code",
   "execution_count": 35,
   "metadata": {},
   "outputs": [],
   "source": [
    "# Create a table\n",
    "cur = conn.cursor()\n",
    "cur.execute(\"DROP TABLE IF EXISTS person;\")\n",
    "cur.execute(\"CREATE TABLE person (id serial PRIMARY KEY, birthdate DATE, first_name varchar, last_name varchar);\")\n",
    "conn.commit()\n",
    "cur.close()\n"
   ]
  },
  {
   "cell_type": "code",
   "execution_count": 36,
   "metadata": {},
   "outputs": [],
   "source": [
    "# Insert a single row to the table\n",
    "cur = conn.cursor()\n",
    "cur.execute(\"INSERT INTO person (birthdate, first_name, last_name) VALUES (%s, %s, %s)\", [\"1995-07-02\", \"Åsmund\", \"Brekke\"])\n",
    "conn.commit()\n",
    "cur.close()"
   ]
  },
  {
   "cell_type": "code",
   "execution_count": 37,
   "metadata": {},
   "outputs": [],
   "source": [
    "\n",
    "# If we want to insert multiple rows at once, we can use execute_values\n",
    "from psycopg2.extras import execute_values\n",
    "cur = conn.cursor()\n",
    "execute_values(cur,\n",
    "    \"INSERT INTO person (birthdate, first_name, last_name) VALUES %s\",\n",
    "    [(\"1989-01-31\", \"Reodor\", \"Felgen\"), (\"1956-02-02\", \"Mysil\", \"Bergsprekken\"), (\"1997-05-01\", \"Rudolf\", \"Blodstrupmoen\")])\n",
    "conn.commit()\n",
    "cur.close()"
   ]
  },
  {
   "cell_type": "code",
   "execution_count": 3,
   "metadata": {},
   "outputs": [
    {
     "name": "stdout",
     "output_type": "stream",
     "text": [
      "(1, datetime.date(1995, 7, 2), 'Åsmund', 'Brekke')\n",
      "(2, datetime.date(1989, 1, 31), 'Reodor', 'Felgen')\n",
      "(4, datetime.date(1997, 5, 1), 'Rudolf', 'Blodstrupmoen')\n"
     ]
    }
   ],
   "source": [
    "# Read data from a SQL query\n",
    "cur = conn.cursor()\n",
    "# Run the select query\n",
    "cur.execute(\"SELECT * FROM person WHERE birthdate >= '1970-01-01'\")\n",
    "# Fetch one or many records\n",
    "for row in cur:\n",
    "    print(row)\n",
    "# Alternatively, you can use these methods if you want to fetch a specific number of records\n",
    "# for row in cur.fetchmany(size=10):\n",
    "#    print(row)\n",
    "# for row in cur.fetchone():\n",
    "#    print(row)\n",
    "cur.close()"
   ]
  },
  {
   "cell_type": "code",
   "execution_count": 5,
   "metadata": {},
   "outputs": [
    {
     "data": {
      "text/plain": [
       "('Åsmund Brekke', '2022-07-02')"
      ]
     },
     "execution_count": 5,
     "metadata": {},
     "output_type": "execute_result"
    }
   ],
   "source": [
    "## Exercises:\n",
    "# 1) Write a function that asks the user for name and birthdate, and writes them to the database.\n",
    "# Hint: You can use the python input() function to ask a user to enter info\n",
    "# 2) Write a function that asks the user for a birthdate, and returns every person in the database that has the exact same birthdate (same year, month and day). \n",
    "# 3) Using the same input as 2), create a function that returns a count of how many persons that have the same birthday (same month and day).\n",
    "# Hint: The DATE_PART SQL function might be useful here  \n",
    "def get_person_info():\n",
    "    name = input(\"What is your name?\")\n",
    "    birthdate = input(\"What is your birthdate?\")\n",
    "    return name, birthdate\n",
    "\n",
    "get_person_info()\n"
   ]
  }
 ],
 "metadata": {
  "kernelspec": {
   "display_name": "Python 3.10.4 64-bit",
   "language": "python",
   "name": "python3"
  },
  "language_info": {
   "codemirror_mode": {
    "name": "ipython",
    "version": 3
   },
   "file_extension": ".py",
   "mimetype": "text/x-python",
   "name": "python",
   "nbconvert_exporter": "python",
   "pygments_lexer": "ipython3",
   "version": "3.10.4"
  },
  "orig_nbformat": 4,
  "vscode": {
   "interpreter": {
    "hash": "26de051ba29f2982a8de78e945f0abaf191376122a1563185a90213a26c5da77"
   }
  }
 },
 "nbformat": 4,
 "nbformat_minor": 2
}
