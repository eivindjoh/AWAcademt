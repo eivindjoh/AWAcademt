{
 "cells": [
  {
   "cell_type": "markdown",
   "metadata": {},
   "source": [
    "# **Assessment Test 2**\n",
    "## **ETL**\n",
    "Eivind Johansen\n",
    "\n",
    "---\n",
    "\n",
    "\n",
    "---"
   ]
  },
  {
   "cell_type": "markdown",
   "metadata": {},
   "source": [
    "### **Oppgave A**"
   ]
  },
  {
   "cell_type": "code",
   "execution_count": 2,
   "metadata": {},
   "outputs": [],
   "source": [
    "import requests"
   ]
  },
  {
   "cell_type": "code",
   "execution_count": 9,
   "metadata": {},
   "outputs": [
    {
     "name": "stdout",
     "output_type": "stream",
     "text": [
      "{'month': '1', 'num': 1, 'link': '', 'year': '2006', 'news': '', 'safe_title': 'Barrel - Part 1', 'transcript': \"[[A boy sits in a barrel which is floating in an ocean.]]\\nBoy: I wonder where I'll float next?\\n[[The barrel drifts into the distance. Nothing else can be seen.]]\\n{{Alt: Don't we all.}}\", 'alt': \"Don't we all.\", 'img': 'https://imgs.xkcd.com/comics/barrel_cropped_(1).jpg', 'title': 'Barrel - Part 1', 'day': '1'}\n",
      "{}\n"
     ]
    }
   ],
   "source": [
    "def get_comic_info(comicno):\n",
    "    URL = f\"https://xkcd.com/{comicno}/info.0.json\"\n",
    "    response = requests.get(URL)\n",
    "    if response.ok:\n",
    "        return response.json()\n",
    "    return {}\n",
    "\n",
    "print(get_comic_info(1))\n",
    "print(get_comic_info(200000))"
   ]
  },
  {
   "cell_type": "markdown",
   "metadata": {},
   "source": [
    "### **Oppgave B**"
   ]
  },
  {
   "cell_type": "code",
   "execution_count": 11,
   "metadata": {},
   "outputs": [
    {
     "data": {
      "text/plain": [
       "{'month': 1, 'num': 1, 'year': 2006, 'title': 'Barrel - Part 1', 'day': 1}"
      ]
     },
     "execution_count": 11,
     "metadata": {},
     "output_type": "execute_result"
    }
   ],
   "source": [
    "def transform_comic(comic):\n",
    "    transformed = {}\n",
    "    keys = ['year', 'month', 'day', 'title', 'num']\n",
    "    for key, value in comic.items():\n",
    "        if key in keys:\n",
    "            try:\n",
    "                transformed[key] = int(value)\n",
    "            except ValueError as e:\n",
    "                transformed[key] = value\n",
    "    return transformed\n",
    "\n",
    "transform_comic(get_comic_info(1))\n"
   ]
  },
  {
   "cell_type": "markdown",
   "metadata": {},
   "source": [
    "### **Oppgave C**"
   ]
  },
  {
   "cell_type": "code",
   "execution_count": 22,
   "metadata": {},
   "outputs": [
    {
     "name": "stdout",
     "output_type": "stream",
     "text": [
      "[{'month': 1, 'num': 1, 'year': 2006, 'title': 'Barrel - Part 1', 'day': 1}, {'month': 1, 'num': 2, 'year': 2006, 'title': 'Petit Trees (sketch)', 'day': 1}, {'month': 1, 'num': 3, 'year': 2006, 'title': 'Island (sketch)', 'day': 1}, {'month': 1, 'num': 4, 'year': 2006, 'title': 'Landscape (sketch)', 'day': 1}, {'month': 1, 'num': 5, 'year': 2006, 'title': 'Blown apart', 'day': 1}]\n"
     ]
    }
   ],
   "source": [
    "def get_all_comics(num1, num2):\n",
    "    comics = [x for x in range(num1, num2+1)]\n",
    "    comics_list = []\n",
    "    for comic in comics:\n",
    "        comic_info = get_comic_info(comic)\n",
    "        comic_transformed = transform_comic(comic_info)\n",
    "        if comic_transformed:\n",
    "            comics_list.append(comic_transformed)\n",
    "    return comics_list\n",
    "\n",
    "print(get_all_comics(1, 5))"
   ]
  },
  {
   "cell_type": "markdown",
   "metadata": {},
   "source": [
    "### **Oppgave D**"
   ]
  },
  {
   "cell_type": "code",
   "execution_count": 27,
   "metadata": {},
   "outputs": [
    {
     "data": {
      "text/plain": [
       "3"
      ]
     },
     "execution_count": 27,
     "metadata": {},
     "output_type": "execute_result"
    }
   ],
   "source": [
    "from datetime import date\n",
    "\n",
    "def get_time_delta(comic1, comic2):\n",
    "    if comic1 == None or comic2 == None:\n",
    "        return 0\n",
    "    comic_one = transform_comic(get_comic_info(comic1))\n",
    "    comic_two = transform_comic(get_comic_info(comic2))\n",
    "    date_one = date(comic_one[\"year\"], comic_one[\"month\"], comic_one[\"day\"])\n",
    "    date_two = date(comic_two[\"year\"], comic_two[\"month\"], comic_two[\"day\"])\n",
    "    difference = date_two - date_one\n",
    "    return difference.days\n",
    "\n",
    "get_time_delta(513, 514)\n",
    "\n",
    "    "
   ]
  },
  {
   "cell_type": "markdown",
   "metadata": {},
   "source": [
    "### **Oppgave E**"
   ]
  },
  {
   "cell_type": "code",
   "execution_count": 49,
   "metadata": {},
   "outputs": [
    {
     "name": "stdout",
     "output_type": "stream",
     "text": [
      "[{'month': 12, 'num': 513, 'year': 2008, 'title': 'Friends', 'day': 5, 'timedelta': 0}, {'month': 12, 'num': 514, 'year': 2008, 'title': 'Simultaneous', 'day': 8, 'timedelta': 3}]\n"
     ]
    }
   ],
   "source": [
    "def get_all_comics_with_time_delta(num1, num2):\n",
    "    rang = [x for x in range(num1, num2+1)]\n",
    "    timedelta = [0]\n",
    "    for rang1, rang2 in zip(rang, rang[1:]):\n",
    "        timedelta.append(get_time_delta(rang1, rang2))\n",
    "    \n",
    "    comics = get_all_comics(num1, num2)\n",
    "    for count, comic in enumerate(comics):\n",
    "        comic[\"timedelta\"] = timedelta[count]\n",
    "    return comics\n",
    "    \n",
    "\n",
    "print(get_all_comics_with_time_delta(513,514))"
   ]
  },
  {
   "cell_type": "markdown",
   "metadata": {},
   "source": [
    "### **Oppgave F**"
   ]
  },
  {
   "cell_type": "code",
   "execution_count": 50,
   "metadata": {},
   "outputs": [],
   "source": [
    "import csv\n",
    "\n",
    "def write_comics_data_with_time_delta(num1, num2):\n",
    "    with open(\"comics.csv\", \"w\", newline=\"\") as fp:\n",
    "        fieldnames = [\"year\", \"month\", \"day\", \"title\", \"num\", \"timedelta\"]\n",
    "        writer = csv.DictWriter(fp, fieldnames=fieldnames, delimiter=\",\", lineterminator=\"\\n\")\n",
    "        writer.writeheader()\n",
    "        for row in get_all_comics_with_time_delta(num1, num2):\n",
    "            writer.writerow(row)\n",
    "\n",
    "write_comics_data_with_time_delta(513, 518)"
   ]
  }
 ],
 "metadata": {
  "kernelspec": {
   "display_name": "Python 3.10.4 64-bit",
   "language": "python",
   "name": "python3"
  },
  "language_info": {
   "codemirror_mode": {
    "name": "ipython",
    "version": 3
   },
   "file_extension": ".py",
   "mimetype": "text/x-python",
   "name": "python",
   "nbconvert_exporter": "python",
   "pygments_lexer": "ipython3",
   "version": "3.10.4"
  },
  "orig_nbformat": 4,
  "vscode": {
   "interpreter": {
    "hash": "26de051ba29f2982a8de78e945f0abaf191376122a1563185a90213a26c5da77"
   }
  }
 },
 "nbformat": 4,
 "nbformat_minor": 2
}
