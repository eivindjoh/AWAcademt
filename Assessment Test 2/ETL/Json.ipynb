{
 "cells": [
  {
   "cell_type": "markdown",
   "metadata": {},
   "source": [
    "# __JSON__\n",
    "\n",
    "### __What is JSON?__\n",
    "\n",
    "- JSON is a *data interchange standard*\n",
    "- Easy to read and write for both humans and machines.\n",
    "- It orginates from Javascript, but very popular in many other settings:\n",
    "    - When interacting with APIs\n",
    "    - For storing data in files, e.g. .json, .jsonl\n",
    "    - When interacting with document-oriented databases such as Elasticsearch and\n",
    "    Apache CouchDB.\n",
    "    - Many languages have built-in tools for encoding/decoding data to json files,\n",
    "    including Python\n",
    "\n",
    "### __Python JSON reading and writing__\n",
    "\n",
    "Two options:\n",
    "\n",
    "    Read/deserialize/decode:\n",
    "    - json.loads(): Deserialize a string containing a JSON document to a Python object.\n",
    "    - json.load(): Deserialize a file-like object to a Python object.\n",
    "\n",
    "    Write/serialize/encode:\n",
    "    - json dumps(): Serialize obj to a JSON formatted string.\n",
    "    - json.dump(): Serialize obj as a JSON formatted stream to a file-like object.\n",
    "\n",
    "\n",
    "JSON also understands NaN, Infinity, and -Infinity as their corresponding float values, which is\n",
    "outside the JSON spec.\n",
    "\n",
    "__JSON SCHEMA:__ <https://json-schema.org/understanding-json-schema/>"
   ]
  },
  {
   "cell_type": "code",
   "execution_count": 2,
   "metadata": {},
   "outputs": [],
   "source": [
    "import json\n",
    "from datetime import date"
   ]
  },
  {
   "cell_type": "code",
   "execution_count": 13,
   "metadata": {},
   "outputs": [],
   "source": [
    "pupil = {\n",
    "    \"name\": \"Test testesen\",\n",
    "    \"grade\": 5,\n",
    "    \"address\": {\n",
    "        \"city\": \"Oslo\",\n",
    "        \"zipcode\": \"0366\",\n",
    "        \"street_name\": \"Bogstadveien\",\n",
    "        \"street_number\": \"75A\"\n",
    "    },\n",
    "    \"subject\": [\"ETL intro\", \"Python\", \"Machine Learning\"],\n",
    "    \"birthdate\": date(1979, 2, 6).strftime(\"%Y-%m-%d\"), #1979-02-06\n",
    "}"
   ]
  },
  {
   "cell_type": "markdown",
   "metadata": {},
   "source": [
    "__Two methods of writing to file__\n",
    "\n",
    "- json.dump() requires an object and a file, writes to file \n",
    "- json.dumps() requires an object, returns a string"
   ]
  },
  {
   "cell_type": "code",
   "execution_count": 19,
   "metadata": {},
   "outputs": [],
   "source": [
    "with open(\"pupil_out.json\", \"w\") as fp:\n",
    "    json.dump(pupil, fp)"
   ]
  },
  {
   "cell_type": "markdown",
   "metadata": {},
   "source": [
    "__Now lets make a list of dictionaries:__"
   ]
  },
  {
   "cell_type": "code",
   "execution_count": 14,
   "metadata": {},
   "outputs": [],
   "source": [
    "pupils = [\n",
    "{\n",
    "    \"name\": \"Test testesen\",\n",
    "    \"grade\": 5,\n",
    "    \"address\": {\n",
    "        \"city\": \"Oslo\",\n",
    "        \"zipcode\": \"0366\",\n",
    "        \"street_name\": \"Bogstadveien\",\n",
    "        \"street_number\": \"75A\"\n",
    "    },\n",
    "    \"subject\": [\"ETL intro\", \"Python\", \"Machine Learning\"],\n",
    "    \"birthdate\": date(1979, 2, 6).strftime(\"%Y-%m-%d\"), #1979-02-06\n",
    "},\n",
    "{\n",
    "    \"name\": \"Slask Slaskesen\",\n",
    "    \"grade\": 2,\n",
    "    \"address\": {\n",
    "        \"city\": \"Oslo\",\n",
    "        \"zipcode\": \"0570\",\n",
    "        \"street_name\": \"Camilla Collets gt\",\n",
    "        \"street_number\": \"19C\"\n",
    "    },\n",
    "    \"subject\": [\"SQL intro\", \"Java\"],\n",
    "    \"birthdate\": date(1998, 10, 5).strftime(\"%Y-%m-%d\"), #1998-10-05\n",
    "}\n",
    "]"
   ]
  },
  {
   "cell_type": "code",
   "execution_count": 15,
   "metadata": {},
   "outputs": [],
   "source": [
    "with open(\"pupils.json\", \"w\") as fp:\n",
    "    json.dump(pupils, fp)"
   ]
  },
  {
   "cell_type": "markdown",
   "metadata": {},
   "source": [
    "__Selecting values from dictionary:__"
   ]
  },
  {
   "cell_type": "code",
   "execution_count": 16,
   "metadata": {},
   "outputs": [
    {
     "data": {
      "text/plain": [
       "'0366'"
      ]
     },
     "execution_count": 16,
     "metadata": {},
     "output_type": "execute_result"
    }
   ],
   "source": [
    "pupil[\"address\"][\"zipcode\"]"
   ]
  },
  {
   "cell_type": "code",
   "execution_count": 17,
   "metadata": {},
   "outputs": [
    {
     "data": {
      "text/plain": [
       "'Java'"
      ]
     },
     "execution_count": 17,
     "metadata": {},
     "output_type": "execute_result"
    }
   ],
   "source": [
    "pupils[-1][\"subject\"][-1]"
   ]
  },
  {
   "cell_type": "code",
   "execution_count": 18,
   "metadata": {},
   "outputs": [
    {
     "name": "stdout",
     "output_type": "stream",
     "text": [
      "First name  Test\n",
      "Last name  testesen\n",
      "First name  Slask\n",
      "Last name  Slaskesen\n"
     ]
    }
   ],
   "source": [
    "for pupil_dict in pupils:\n",
    "    full_name = pupil_dict[\"name\"]\n",
    "    first_name, last_name = full_name.split(\" \")\n",
    "    print(\"First name \", first_name)\n",
    "    print(\"Last name \", last_name)"
   ]
  },
  {
   "cell_type": "markdown",
   "metadata": {},
   "source": [
    "__Two methods of reading a file:__\n",
    "\n",
    "- json.load() fp as parameter\n",
    "- json.loads() string as parameter"
   ]
  },
  {
   "cell_type": "code",
   "execution_count": null,
   "metadata": {},
   "outputs": [],
   "source": [
    "with open(\"pupil_out.json\", \"r\") as fp:\n",
    "    jsonstring = fp.read()\n",
    "    res = json.loads(jsonstring)\n",
    "    print(type(res))\n",
    "    print(res)"
   ]
  },
  {
   "cell_type": "code",
   "execution_count": null,
   "metadata": {},
   "outputs": [],
   "source": [
    "with open(\"pupil_out.json\", \"r\") as fp:\n",
    "    res = json.load(fp)\n",
    "    print(type(res))\n",
    "    print(res)"
   ]
  },
  {
   "cell_type": "code",
   "execution_count": null,
   "metadata": {},
   "outputs": [],
   "source": [
    "# If we have a corrupt json file we will get JSONDecodeError\n",
    "with open(\"pupils_error.json\", \"r\") as fp:\n",
    "    res = json.load(fp)\n",
    "    print(type(res))\n",
    "    print(res)"
   ]
  },
  {
   "cell_type": "markdown",
   "metadata": {},
   "source": [
    "---"
   ]
  },
  {
   "cell_type": "markdown",
   "metadata": {},
   "source": [
    "# **EXAMPLES**"
   ]
  },
  {
   "cell_type": "markdown",
   "metadata": {},
   "source": [
    "1. Load the file users.json to a list of dicts in Python"
   ]
  },
  {
   "cell_type": "code",
   "execution_count": 5,
   "metadata": {},
   "outputs": [
    {
     "data": {
      "text/plain": [
       "[{'id': 1,\n",
       "  'name': 'Mysil Bergsprekken',\n",
       "  'hobbies': ['Cars', 'Skiing'],\n",
       "  'birthdate': '1995-02-01'},\n",
       " {'id': 2,\n",
       "  'name': 'Reodor Felgen',\n",
       "  'hobbies': ['Cars', 'Grand Prix'],\n",
       "  'birthdate': '1992-01-07'},\n",
       " {'id': 3,\n",
       "  'name': 'Rudolf Blodstrupmoen',\n",
       "  'hobbies': ['Cars', 'Sabotaging'],\n",
       "  'birthdate': '1988-02-27'}]"
      ]
     },
     "execution_count": 5,
     "metadata": {},
     "output_type": "execute_result"
    }
   ],
   "source": [
    "import json\n",
    "\n",
    "def read_json(filename):\n",
    "    with open(filename, \"r\") as fp:\n",
    "        res = json.load(fp)\n",
    "        return res\n",
    "\n",
    "read_json(\"Filer/users.json\")"
   ]
  },
  {
   "cell_type": "markdown",
   "metadata": {},
   "source": [
    "2. Create a function all_names(users) that accepts a list of dicts as input and returns all names as a list."
   ]
  },
  {
   "cell_type": "code",
   "execution_count": 6,
   "metadata": {},
   "outputs": [
    {
     "data": {
      "text/plain": [
       "['Mysil Bergsprekken', 'Reodor Felgen', 'Rudolf Blodstrupmoen']"
      ]
     },
     "execution_count": 6,
     "metadata": {},
     "output_type": "execute_result"
    }
   ],
   "source": [
    "def all_names(users):\n",
    "    names = []\n",
    "    for user in users:\n",
    "        names.append(user[\"name\"])\n",
    "    return names\n",
    "\n",
    "all_names(read_json(\"Filer/users.json\"))"
   ]
  },
  {
   "cell_type": "markdown",
   "metadata": {},
   "source": [
    "3. Create a function find_hobbies(users, hobby). It should return the name of all users that has the given hobby."
   ]
  },
  {
   "cell_type": "code",
   "execution_count": 12,
   "metadata": {},
   "outputs": [
    {
     "data": {
      "text/plain": [
       "['Mysil Bergsprekken', 'Reodor Felgen', 'Rudolf Blodstrupmoen']"
      ]
     },
     "execution_count": 12,
     "metadata": {},
     "output_type": "execute_result"
    }
   ],
   "source": [
    "def find_hobbies(users: list, hobby: str) -> dict:\n",
    "    names = []\n",
    "    for user in users:\n",
    "        if hobby in user[\"hobbies\"]:\n",
    "            names.append(user[\"name\"])\n",
    "    return names\n",
    "\n",
    "find_hobbies(read_json(\"Filer/users.json\"), \"Cars\")"
   ]
  },
  {
   "cell_type": "markdown",
   "metadata": {},
   "source": [
    "4. Create a new function create_hobby_dict(users) that returns a dictionary that lists each name of each hobby with hobby as the key."
   ]
  },
  {
   "cell_type": "code",
   "execution_count": 23,
   "metadata": {},
   "outputs": [
    {
     "data": {
      "text/plain": [
       "{'Cars': ['Mysil Bergsprekken', 'Reodor Felgen', 'Rudolf Blodstrupmoen'],\n",
       " 'Skiing': ['Mysil Bergsprekken'],\n",
       " 'Grand Prix': ['Reodor Felgen'],\n",
       " 'Sabotaging': ['Rudolf Blodstrupmoen']}"
      ]
     },
     "execution_count": 23,
     "metadata": {},
     "output_type": "execute_result"
    }
   ],
   "source": [
    "def create_hobby_dict(users):\n",
    "    hobbies = {}\n",
    "    for user in users:\n",
    "        for hobby in user[\"hobbies\"]:\n",
    "            if hobby not in hobbies:\n",
    "                hobbies[hobby] = find_hobbies(users, hobby)\n",
    "    return hobbies\n",
    "\n",
    "create_hobby_dict(read_json(\"Filer/users.json\"))"
   ]
  },
  {
   "cell_type": "markdown",
   "metadata": {},
   "source": [
    "5. Write the new dict you just created to a new json file \"hobbies.json\"."
   ]
  },
  {
   "cell_type": "code",
   "execution_count": 27,
   "metadata": {},
   "outputs": [],
   "source": [
    "def write_new_json(jsonfile):\n",
    "    with open(\"Filer/hobbies.json\", \"w\") as fp:\n",
    "        json.dump(jsonfile, fp)\n",
    "\n",
    "write_new_json(create_hobby_dict(read_json(\"Filer/users.json\")))"
   ]
  }
 ],
 "metadata": {
  "kernelspec": {
   "display_name": "Python 3.10.4 64-bit",
   "language": "python",
   "name": "python3"
  },
  "language_info": {
   "codemirror_mode": {
    "name": "ipython",
    "version": 3
   },
   "file_extension": ".py",
   "mimetype": "text/x-python",
   "name": "python",
   "nbconvert_exporter": "python",
   "pygments_lexer": "ipython3",
   "version": "3.10.4"
  },
  "orig_nbformat": 4,
  "vscode": {
   "interpreter": {
    "hash": "26de051ba29f2982a8de78e945f0abaf191376122a1563185a90213a26c5da77"
   }
  }
 },
 "nbformat": 4,
 "nbformat_minor": 2
}
