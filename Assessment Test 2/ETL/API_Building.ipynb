{
 "cells": [
  {
   "cell_type": "markdown",
   "metadata": {},
   "source": [
    "# **FLASK: Overview**\n",
    "\n",
    "Two major API frameworks for Python:\n",
    "\n",
    "- Flask - older, widely adopted, has numerous extension modules\n",
    "- FastAPI - newer, widely adopted\n",
    "\n",
    "Flask features:\n",
    "\n",
    "- Can be used to build both websites and APIs\n",
    "- Extensive documentation\n",
    "- Easy to get started with"
   ]
  },
  {
   "cell_type": "code",
   "execution_count": null,
   "metadata": {},
   "outputs": [],
   "source": [
    "from flask import Flask\n",
    "\n",
    "app = Flask(__name__)\n",
    "\n",
    "@app.route(\"/\")\n",
    "def hello_world():\n",
    "    return \"Hello world!\""
   ]
  },
  {
   "cell_type": "markdown",
   "metadata": {},
   "source": [
    "### **Patch parameters**\n",
    "\n",
    "Suppose you have GET /bananas that gets all your bananas...<br>\n",
    "But you want a specific banana\n",
    "\n",
    "**Introducing:** <br>\n",
    "\n",
    "    GET /bananas/<banana_id> :)\n",
    "    \n",
    "- You may also specify the type of parameter <br> which provides validation for free.\n",
    "\n",
    "Path operations are evaluated in order.\n",
    "- Be careful if you have f.ex. /users/me for current user"
   ]
  },
  {
   "cell_type": "code",
   "execution_count": null,
   "metadata": {},
   "outputs": [],
   "source": [
    "@app.route(\"/users/<user_id>\")\n",
    "def get_user(user_id=None):\n",
    "    return f\"You passed the user id {user_id}\""
   ]
  },
  {
   "cell_type": "markdown",
   "metadata": {},
   "source": [
    "### **Query parameters**\n",
    "\n",
    "Query parameters allow more flexibility with your methods.<br>\n",
    "Can be recognized in url by *\"the thing after the question mark\"*.\n",
    "\n",
    "- http://mycoolwebsite.it/search?**query=Some%20search%20stuff**"
   ]
  },
  {
   "cell_type": "code",
   "execution_count": null,
   "metadata": {},
   "outputs": [],
   "source": [
    "from flask import Flask, request\n",
    "\n",
    "app = Flask(__name__)\n",
    "\n",
    "@app.route(\"/search\")\n",
    "def search():\n",
    "    args = request.args\n",
    "    return f\"You gave the following args: {args}\""
   ]
  },
  {
   "cell_type": "markdown",
   "metadata": {},
   "source": [
    "### **Handling errors**\n",
    "\n",
    "Sometimes, things simply go wrong.<br>\n",
    "The server should:\n",
    "- Not crash and burn.\n",
    "- Inform the client that something went wrong.\n",
    "\n",
    "In Flask, you can specify the HTTP code as the second argument in return"
   ]
  },
  {
   "cell_type": "code",
   "execution_count": null,
   "metadata": {},
   "outputs": [],
   "source": [
    "@app.route(\"/users/<user_id>\")\n",
    "def get_user(user_id=None):\n",
    "    user = get_user(user_id)\n",
    "    if user is None:\n",
    "        return \"Could not find user\", 404\n",
    "    return f\"You passed the user id {user_id}\""
   ]
  }
 ],
 "metadata": {
  "kernelspec": {
   "display_name": "Python 3.10.2 64-bit",
   "language": "python",
   "name": "python3"
  },
  "language_info": {
   "name": "python",
   "version": "3.10.2"
  },
  "orig_nbformat": 4,
  "vscode": {
   "interpreter": {
    "hash": "ac53c748d68278f1a3c97fd2eb87feea1c9a8b264eabecfa1c06c18ad81dfb4b"
   }
  }
 },
 "nbformat": 4,
 "nbformat_minor": 2
}
