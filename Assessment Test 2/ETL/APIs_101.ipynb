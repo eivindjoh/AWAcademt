{
 "cells": [
  {
   "cell_type": "markdown",
   "metadata": {},
   "source": [
    "# **Whats an API?**\n",
    "\n",
    "**API stands for Application Programming Interface**\n",
    "\n",
    "- \"A computing interface which defines interactions between multiple software intermediaries\";\n",
    "basically like the controls of a car.\n",
    "\n",
    "Examples:\n",
    "\n",
    "- The thing that retrieves your friend list on Facebook.\n",
    "- Python modules.\n",
    "- The connection to your DBMS.\n",
    "\n",
    "### **REST APIs**\n",
    "\n",
    "**REST** - **RE**presentional **S**tate **T**ransfer\n",
    "\n",
    "**Requests must have:**\n",
    "\n",
    "- URL: Where to go.\n",
    "- Method: What to do.\n",
    "- List of Headers: Meta-information and authentication stuff.\n",
    "- Body: Data to send to the server.\n",
    "\n",
    "### **Common REST methods:**\n",
    "\n",
    "- **POST**: Create new resource\n",
    "- **GET**: Retrieve resource\n",
    "- **PUT**: Update existing resource\n",
    "- **DELETE**: Delete existing resource\n",
    "\n",
    "---\n",
    "\n",
    "## **Data formats**\n",
    "\n",
    "Data from an API is usually returned as either JSON or XML.\n",
    "\n",
    "- **JSON**: JavaScript Object Notation\n",
    "    - Key-value pairs; like a Python dictionary\n",
    "    - May be nested; object within objects"
   ]
  },
  {
   "cell_type": "markdown",
   "metadata": {},
   "source": [
    "    {\n",
    "        \"crust\": \"original\",\n",
    "        \"topping\": [\"cheese\", \"pepperoni\", \"garlic\"],\n",
    "        \"status\": \"cooking\"\n",
    "    }"
   ]
  },
  {
   "cell_type": "markdown",
   "metadata": {},
   "source": [
    "- **XML**: Extensible Markup Language\n",
    "    - More verbose than JSON\n",
    "    - Somewhat trickier to parse with Python"
   ]
  },
  {
   "cell_type": "markdown",
   "metadata": {},
   "source": [
    "    <order>\n",
    "        <crust>original</crust>¨\n",
    "        <toppings>\n",
    "            <topping>cheese</topping>\n",
    "            <topping>pepperoni</topping>\n",
    "            <topping>garlic</topping>\n",
    "        </topping>\n",
    "        <status>cooking</status>"
   ]
  },
  {
   "cell_type": "markdown",
   "metadata": {},
   "source": [
    "### **Overview of HTTP response codes**\n",
    "\n",
    "- 1xx - Informational response\n",
    "- 2xx - Success\n",
    "    - 200: OK\n",
    "    - 201: Created\n",
    "    - 204: No content\n",
    "- 3xx - Redirection\n",
    "- 4xx - Client errors\n",
    "    - 400: Bad request\n",
    "    - 401: Unauthorized to access resource\n",
    "    - 404: Resource not found\n",
    "    - 418: I'm a teapot\n",
    "- 5xx - Server errors"
   ]
  },
  {
   "cell_type": "markdown",
   "metadata": {},
   "source": [
    "### **Authorisation of web APIs**\n",
    "\n",
    "Most APIs require some form of authentication\n",
    "\n",
    "**Token-based**\n",
    "- Successfully logging in returns a token\n",
    "- Token is reused for all subsequent requests\n",
    "- Token may be refreshed\n",
    "<br>\n",
    "\n",
    "**API key**\n",
    "- Permanent or one-time code\n",
    "- Common for semi-open APIs\n",
    "<br>\n",
    "\n",
    "**Token and API are usually included in the HTTP Header**\n",
    "- For instance X-API-KEY: {key} or Authentication: Bearer {key}\n",
    "- API-key should not be included in the URL, although some APIs do<br>\n",
    "(This includes the risk of leaking the key, for instance by leaking logs)\n",
    "\n",
    "---"
   ]
  },
  {
   "cell_type": "markdown",
   "metadata": {},
   "source": [
    "# **The Request Module**\n",
    "\n",
    "**Documentation** - <https://requests.readthedocs.io/en/latest/>"
   ]
  },
  {
   "cell_type": "code",
   "execution_count": null,
   "metadata": {},
   "outputs": [],
   "source": [
    "# Sending a request to the API\n",
    "\n",
    "import requests\n",
    "\n",
    "def get_all_public_holidays():\n",
    "    URL = \"http://date.nager.at/api/v3/PublicHolidays/2022/NO\"\n",
    "    response = requests.get(URL)\n",
    "    if response.ok:\n",
    "        return response.json()\n",
    "\n",
    "get_all_public_holidays()\n"
   ]
  },
  {
   "cell_type": "code",
   "execution_count": null,
   "metadata": {},
   "outputs": [],
   "source": [
    "# We can use an f-string to pass in parameters in the URL, if we want holidays for a \n",
    "# spesific country and year:\n",
    "\n",
    "def get_public_holidays(year, country_code):\n",
    "    URL = f\"http://date.nager.at/api/v3/PublicHolidays/{year}/{country_code}\"\n",
    "    response = requests.get(URL)\n",
    "    if response.ok:\n",
    "        return response.json()\n",
    "    return f\"Could not fetch holidays for {country_code} in {year}\"\n",
    "\n",
    "get_public_holidays(2021, \"NO\")"
   ]
  },
  {
   "cell_type": "code",
   "execution_count": null,
   "metadata": {},
   "outputs": [],
   "source": [
    "# Get the date for a holiday the last x years\n",
    "\n",
    "from datetime import date\n",
    "\n",
    "def get_norwegian_holiday_dates(holiday_name, years_back):\n",
    "    holidays = []\n",
    "    this_year = date.today().year\n",
    "    for year in range(this_year, this_year-years_back, -1):\n",
    "        for holiday_dict in get_public_holidays(year, \"NO\"):\n",
    "            if holiday_dict[\"localName\"].lower() == holiday_name.lower():\n",
    "                holidays.append(holiday_dict[\"date\"])\n",
    "    return holidays\n",
    "\n",
    "get_norwegian_holiday_dates(\"Langfredag\", 3)"
   ]
  },
  {
   "cell_type": "code",
   "execution_count": null,
   "metadata": {},
   "outputs": [],
   "source": [
    "from datetime import datetime\n",
    "\n",
    "def get_date_facts(datestring):\n",
    "    \"\"\" \n",
    "    Returns the fact about the given datestring\n",
    "    We assume a format of 2022-04-15, e.g, YYYY-mm-dd\n",
    "\n",
    "    \"\"\"\n",
    "\n",
    "    dateobj = datetime.strptime(datestring, \"%Y-%m-%d\")\n",
    "    fact = query_fact_api(dateobj)\n",
    "    return {\"date\": datestring, \"fact\": fact}\n",
    "\n",
    "def query_fact_api(dateobj):\n",
    "    URL = f\"http://numbersapi.com/{dateobj.month}/{dateobj.day}/date\"\n",
    "    response = requests.get(URL)\n",
    "    if response.ok:\n",
    "        return response.text\n",
    "    return \"\"\n",
    "\n",
    "for holiday in get_norwegian_holiday_dates(\"Langfredag\", 3):\n",
    "    print(get_date_facts(holiday))"
   ]
  }
 ],
 "metadata": {
  "kernelspec": {
   "display_name": "Python 3.10.4 64-bit",
   "language": "python",
   "name": "python3"
  },
  "language_info": {
   "codemirror_mode": {
    "name": "ipython",
    "version": 3
   },
   "file_extension": ".py",
   "mimetype": "text/x-python",
   "name": "python",
   "nbconvert_exporter": "python",
   "pygments_lexer": "ipython3",
   "version": "3.10.4"
  },
  "orig_nbformat": 4,
  "vscode": {
   "interpreter": {
    "hash": "26de051ba29f2982a8de78e945f0abaf191376122a1563185a90213a26c5da77"
   }
  }
 },
 "nbformat": 4,
 "nbformat_minor": 2
}
