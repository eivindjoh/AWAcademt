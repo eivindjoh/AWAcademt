{
 "cells": [
  {
   "cell_type": "markdown",
   "metadata": {},
   "source": [
    "# **Interacting with databases with Python**\n",
    "\n",
    "### **Overview**\n",
    "\n",
    "- ***PEP 249***: The DB API 2.0 spesification\n",
    "- ***Connections***: Managing your link to the database\n",
    "- ***Cursors***: Running queries and getting the results back\n",
    "- A word about ORMs"
   ]
  },
  {
   "cell_type": "markdown",
   "metadata": {},
   "source": [
    "**PEP 249 defined the DB API 2.0, which is implemented by all Python database modules**\n",
    "\n",
    "- PEP 249 (Python Enhancement Proposal) dates back to 2021\n",
    "- Similar to pre-SQL database languages, there were no conventions for how to<br>\n",
    "connect to databases with Python.\n",
    "- PEP 249 specifies a common API which is used accross all modules that implement<br>\n",
    "a database connection, across database types (relational, graph, document..).\n",
    "- PEP 249 has two core object types: **connections** and **cursors**.\n",
    "- We'll use examples from psycopg2, the Postgres modules for Python\n",
    "\n",
    "---"
   ]
  },
  {
   "cell_type": "markdown",
   "metadata": {},
   "source": [
    "### **Connections and cursors at a glance**\n",
    "\n",
    "- **Connection**:<br> The \"boringest\" object which only deals with connection <br> to the database and closing the connection when done.\n",
    "- **Cursor**:<br> The worker object which is spawned by the connection object.\n",
    "    - Eats raw SQL!"
   ]
  },
  {
   "cell_type": "code",
   "execution_count": null,
   "metadata": {},
   "outputs": [],
   "source": [
    "import psycopg2\n",
    "\n",
    "# Connect to an existing database\n",
    "conn = psycopg2.connect(\"dbname=test user=postgres\")\n",
    "\n",
    "# Open a cursor to perform database operations\n",
    "cur = conn.cursor()\n",
    "\n",
    "# Execute a command: this creates a new table\n",
    "cur.execute(\"CREATE TABLE test (id serial PRIMARY KEY, num integer, data varchar);\")\n",
    "\n",
    "# Pass data to fill a query placeholdersand let Psygopg perform \n",
    "# the correct conversion (no more SQL injections!)\n",
    "cur.execute(\"INSERT INTO test (num, data) VALUES (%s, %s)\", (100, \"abc'def\"))\n",
    "\n",
    "# Query the database and obtain data as Python objects\n",
    "cur.execute(\"SELECT * FROM test;\")\n",
    "cur.fetchone()\n",
    "\n",
    "# Make the changes to the database persistent\n",
    "conn.commit()\n",
    "\n",
    "# Close communication with the database\n",
    "cur.close()\n",
    "conn.close()"
   ]
  },
  {
   "cell_type": "markdown",
   "metadata": {},
   "source": [
    "### **Connections**\n",
    "\n",
    "1. They are opened.\n",
    "2. They pass the cursor.\n",
    "3. They are closed.\n",
    "\n",
    "You are responsible for closing your own connections\n",
    "- This applies especially to you, person who uses jupyter notebook to practice this.<br>\n",
    "(Especially if you use a shared database, such as the one in Azure."
   ]
  },
  {
   "cell_type": "markdown",
   "metadata": {},
   "source": [
    "### **Cursors**\n",
    "\n",
    "Cursors are THE interface to the database.\n",
    "\n",
    "Cursors allow you to run SQL queries directly with the ***.execute()*** and ***.executemany()***\n",
    "- It is strongly recomennded that parameters are passed as the second argument to these functions, <br>\n",
    "rather than using strong concatenation. (remember SQL injection?)\n",
    "\n",
    "Once a query has been executed, use the ***.fetchone()***, ***.fetchmany()***, and/or ***.fetchall()*** <br>\n",
    "to retrieve rows from the return set as (a list of) Python tuples.\n",
    "\n",
    "Cursors should also be closed when you're done with them."
   ]
  },
  {
   "cell_type": "markdown",
   "metadata": {},
   "source": [
    "**PEP 249 specifies that autocommit is of by default, so everything you do must be committed with <br> the .commit() method.**\n",
    "\n",
    "Detail: All cursors spawned from the same connection object can \"see\" each others changes even <br> before transactions are committed!\n",
    "\n",
    "Remember to NEVER commit data which would leave your database in an inconsistent state.\n",
    "\n",
    "Use ***.rollback()*** to rollback the transaction in case of errors\n",
    "\n",
    "---"
   ]
  },
  {
   "cell_type": "markdown",
   "metadata": {},
   "source": [
    "### **A word about context managers in Python**\n",
    "\n",
    "Do you hate forgetting to close cursors?\n",
    "\n",
    "Some ephemeral objects like connections and cursors are commonly used with <br>\n",
    "Python's **context manager** feature.\n",
    "\n",
    "A context is created using the **with** keyword\n",
    "\n",
    "If a cursor is created in a context header, it is closed when the scope is finished."
   ]
  },
  {
   "cell_type": "code",
   "execution_count": null,
   "metadata": {},
   "outputs": [],
   "source": [
    "with open(\"test.txt\") as f:\n",
    "    data = f.read()"
   ]
  },
  {
   "cell_type": "markdown",
   "metadata": {},
   "source": [
    "# **EXAMPLES**"
   ]
  },
  {
   "cell_type": "code",
   "execution_count": null,
   "metadata": {},
   "outputs": [],
   "source": [
    "import psycopg2\n",
    "conn = psycopg2.connect(\"dbname=postgres user=postgres password=mysecretpassword\", port=5544)\n",
    "cur = conn.cursor()"
   ]
  },
  {
   "cell_type": "markdown",
   "metadata": {},
   "source": [
    "1. Create a table \"oscar_winners\" with the following schema using the psycopg2 package:\n",
    "\n",
    "- id serial PRIMARY KEY<br>\n",
    "- year integer<br>\n",
    "- age integer<br>\n",
    "- name varchar<br>\n",
    "- movie varchar<br>\n"
   ]
  },
  {
   "cell_type": "code",
   "execution_count": null,
   "metadata": {},
   "outputs": [],
   "source": [
    "def create_oscar_winners_table():\n",
    "    with conn.cursor() as cur:\n",
    "        cur.execute(\"DROP TABLE IF EXISTS oscar_winners;\")\n",
    "        cur.execute(\"CREATE TABLE oscar_winners (id serial PRIMARY KEY, year integer, age integer, name varchar, movie varchar);\")\n",
    "        conn.commit()\n",
    "\n",
    "create_oscar_winners_table()"
   ]
  },
  {
   "cell_type": "markdown",
   "metadata": {},
   "source": [
    "2. Download the file \"oscar_age_males.csv\" from canvas and insert it to the oscar_winners table using DBeaver.<br> (You can do this by right clicking the table in DBeaver, and selecting import data, then select the file)"
   ]
  },
  {
   "cell_type": "markdown",
   "metadata": {},
   "source": [
    "3. Create the function get_youngest_oscar_winner() that queries the database and returns the name, age and movie of the youngest oscar winner."
   ]
  },
  {
   "cell_type": "code",
   "execution_count": null,
   "metadata": {},
   "outputs": [],
   "source": [
    "def get_youngest_oscar_winner():\n",
    "    with conn.cursor() as cur:\n",
    "        cur.execute(\"SELECT name, age, movie from oscar_winners ORDER BY age LIMIT 1\")\n",
    "        return list(cur.fetchone())\n",
    "\n",
    "get_youngest_oscar_winner()"
   ]
  },
  {
   "cell_type": "markdown",
   "metadata": {},
   "source": [
    "4. Create the function get_winners_by_age(age) that has age as a parameter, queries the database for all <br> oscar winners that are that age and returns them as a list of lists."
   ]
  },
  {
   "cell_type": "code",
   "execution_count": null,
   "metadata": {},
   "outputs": [],
   "source": [
    "def get_winners_by_age(age):\n",
    "    with conn.cursor() as cur:\n",
    "        cur.execute(\"SELECT * FROM oscar_winners WHERE age = %s\", [age])\n",
    "        # Since task asked for a list, convert each element of the list to a list\n",
    "        return [list(x) for x in cur.fetchall()]\n",
    "\n",
    "get_winners_by_age(37)"
   ]
  },
  {
   "cell_type": "markdown",
   "metadata": {},
   "source": [
    "5. Create the function get_winners_by_name(name) that has name as a parameter and returns all oscar winners<br> in the database that has a name that contains the given name."
   ]
  },
  {
   "cell_type": "code",
   "execution_count": null,
   "metadata": {},
   "outputs": [],
   "source": [
    "def get_winners_by_name(name):\n",
    "    name_formatted = f'%{name.lower()}%'\n",
    "    with conn.cursor() as cur:\n",
    "        cur.execute(\"SELECT * FROM oscar_winners WHERE name like %s\", [name_formatted])\n",
    "        # Since task asked for a list, convert each element of the list to a list.\n",
    "        return [list(x) for x in cur.fetchall()]\n",
    "\n",
    "get_winners_by_name(\"Robert\")"
   ]
  },
  {
   "cell_type": "markdown",
   "metadata": {},
   "source": [
    "6. Create a function multiple_oscar_winners(num_oscars) that returns a dict of all oscar winners that has won \"num_oscars\" or more Oscars."
   ]
  },
  {
   "cell_type": "code",
   "execution_count": null,
   "metadata": {},
   "outputs": [],
   "source": [
    "def multiple_oscar_winners(num_oscars):\n",
    "    oscar_winners = {}\n",
    "    with conn.cursor() as cur:\n",
    "        cur.execute(\"SELECT name, count(*) FROM oscar_winners HAVING count(*) >= %s\", [num_oscars])\n",
    "        for x in cur.fetchall():\n",
    "            oscar_winners[x[0]] = x[1]\n",
    "    return oscar_winners"
   ]
  },
  {
   "cell_type": "markdown",
   "metadata": {},
   "source": [
    "7. Create a function write_oscar_winner(name, age, year, movie) that writes a new row to the database."
   ]
  },
  {
   "cell_type": "code",
   "execution_count": null,
   "metadata": {},
   "outputs": [],
   "source": [
    "def write_oscar_winner(year, age, name, movie):\n",
    "    with conn.cursor() as cur:\n",
    "        cur.execute(\"INSERT INTO oscar_winners (year, age, name, movie) VALUES (%s, %s, %s, %s);\", [year, age, name, movie])\n",
    "        conn.commit()"
   ]
  },
  {
   "cell_type": "markdown",
   "metadata": {},
   "source": [
    "8. Download the file \"female_oscar_winners.csv\", but this time you are not allowed to use the DBeaver import function<br> to insert them to the database! Use the \"csv\" library together with the necessary functions you created in the tasks above."
   ]
  },
  {
   "cell_type": "code",
   "execution_count": null,
   "metadata": {},
   "outputs": [],
   "source": [
    "import csv\n",
    "\n",
    "def clean_row(row):\n",
    "    for k,v in row.items():\n",
    "        if k is not None:\n",
    "            row[k] = v.replace('\"', '') # Remove all junk quotechars\n",
    "\n",
    "def import_female_oscar_winners():\n",
    "    with open(\"oscar_age_female.csv\") as fp:\n",
    "        reader = csv.DictReader(fp, fieldnames=[\"Index\", \"Year\", \"Age\", \"Name\", \"Movie\"], dialect=\"excel\", quotechar='\"', delimiter=\",\")\n",
    "        # Skip first row since it is the header\n",
    "        next(reader)\n",
    "        # Since this CSV file is a bit messy, itereate through each row and see if it has a column with none.\n",
    "        # If it does, add the value of the \"None\" key to the movie.\n",
    "        for row in reader:\n",
    "            if row.get(None) is not None:\n",
    "                row[\"Movie\"] += \",\" + row[None][0]\n",
    "        # Remove extra \" characters from the columns\n",
    "            clean_row(row)\n",
    "            write_oscar_winner(row[\"Year\"], row[\"Age\"], row[\"Name\"], row[\"Movie\"])\n",
    "\n",
    "import_female_oscar_winners()"
   ]
  }
 ],
 "metadata": {
  "kernelspec": {
   "display_name": "Python 3.10.2 64-bit",
   "language": "python",
   "name": "python3"
  },
  "language_info": {
   "codemirror_mode": {
    "name": "ipython",
    "version": 3
   },
   "file_extension": ".py",
   "mimetype": "text/x-python",
   "name": "python",
   "nbconvert_exporter": "python",
   "pygments_lexer": "ipython3",
   "version": "3.10.2"
  },
  "orig_nbformat": 4,
  "vscode": {
   "interpreter": {
    "hash": "ac53c748d68278f1a3c97fd2eb87feea1c9a8b264eabecfa1c06c18ad81dfb4b"
   }
  }
 },
 "nbformat": 4,
 "nbformat_minor": 2
}
