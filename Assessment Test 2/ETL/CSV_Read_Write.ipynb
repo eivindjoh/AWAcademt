{
 "cells": [
  {
   "cell_type": "markdown",
   "metadata": {},
   "source": [
    "# __Parsing CSV with Python__"
   ]
  },
  {
   "cell_type": "markdown",
   "metadata": {},
   "source": [
    "---\n",
    "__CSV = Comma-Seperated Values__\n",
    "\n",
    "Generally, CSV is used to refer to any plain text file which:\n",
    "\n",
    "- Store a row of data on each line\n",
    "- Seperates values within a row using a __delimiter character like , or ; or \\t or :..__\n",
    "\n",
    "CSV files may have a header row which give the column names (or they may not)\n",
    "\n",
    "Very easy to implement programs that write CSVs, and append data to existing CSVs\n",
    "\n",
    "There are no standards for CSV files, meaning __you can never assume that two CSVs\n",
    "from different sources have the same format.__\n",
    "\n",
    "---\n"
   ]
  },
  {
   "cell_type": "markdown",
   "metadata": {},
   "source": [
    "## __Reading data from a CSV file with csv__\n",
    "\n",
    "\n",
    "Two choices: reading each row as lists or dictionaries:\n",
    "\n",
    "    The reader() function creates a list of lists of the CSV file\n",
    "    The DictReader class returns a list of dictionaries of the CSV file\n",
    "\n",
    "Both approaches accept a file-like reference to the file itself.\n",
    "\n",
    "__NOTE:__ All values are read as strings.\n",
    "\n",
    "\n",
    "__Documentation:__ <https://docs.python.org/3/library/csv.html>\n",
    "\n"
   ]
  },
  {
   "cell_type": "markdown",
   "metadata": {},
   "source": [
    "\n",
    "### __A closer look csv.reader:__\n",
    "\n",
    "Constructor: csv.reader(file, delimiter)\n",
    "\n",
    "- file: File-like reference to file\n",
    "- delimiter: Character in file that indicates a new column-value\n",
    "\n",
    "The constructor returns an iterable object that can be processed by for-loops and\n",
    "functions accepting iterables\n",
    "\n",
    "- __Each row__ is read as a __list of values__ with length equal to the number\n",
    "of columns in the file.\n"
   ]
  },
  {
   "cell_type": "code",
   "execution_count": null,
   "metadata": {},
   "outputs": [],
   "source": [
    "import csv\n",
    "\n",
    "# Example using the reader() function:\n",
    "\n",
    "with open(\"eggs.csv\", newline=\"\") as csvfile:\n",
    "    reader = csv.reader(csvfile)\n",
    "    for row in reader:\n",
    "        print(row[\"first_name\"], row[\"last_name\"])"
   ]
  },
  {
   "cell_type": "markdown",
   "metadata": {},
   "source": [
    "### __A closer look csv.DictReader:__\n",
    "\n",
    "Constructor: csv.DictReader(file)\n",
    "\n",
    "- file: File-like reference to file\n",
    "\n",
    "The constructor returns an iterable object that can be processed by for-loops and functions\n",
    "accepting iterables.\n",
    "\n",
    "- __Each row__ is read as a __dictionary of values__, where the keys are the taken from the\n",
    "header-row of the CSV or from the optional __fieldnames__ parameter.\n",
    "\n",
    "csv.DictReader expects a header-row in the CSV, which will be used as keys in the dictionaries.\n",
    "If there is no header-row, you may pass __fieldnames__ as an optional paramater in the constructor."
   ]
  },
  {
   "cell_type": "code",
   "execution_count": 10,
   "metadata": {},
   "outputs": [],
   "source": [
    "import csv\n",
    "\n",
    "# Example using the DictReader() class:\n",
    "\n",
    "with open(\"names.csv\", newline=\"\") as csvfile:\n",
    "    reader = csv.DictReader(csvfile)\n",
    "    for row in reader:\n",
    "        print(' ,'.join(row))"
   ]
  },
  {
   "cell_type": "markdown",
   "metadata": {},
   "source": [
    "---\n",
    "__Writing data to a CSV file with csv__\n",
    "---\n",
    "\n",
    "Two choices: writing each row as lists or dictionaries.\n",
    "\n",
    "    The writer() object accepts rows as lists.\n",
    "    The DictWriter class returns a list of dictionaries of the CSV file.\n",
    "\n",
    "Both approaches accept a file-like reference to the file itself.\n",
    "\n",
    "__NOTE:__ You will not get exceptions for writing an unequal amount of values to the file\n"
   ]
  },
  {
   "cell_type": "markdown",
   "metadata": {},
   "source": [
    "### __A closer look at csv.writer__\n",
    "\n",
    "Constructor: csv.writer(file, delimiter)\n",
    "\n",
    "- file: File-like reference to file, which should be opened with newline=\"\".\n",
    "- delimiter: Character in file that indicates a new column-value.\n",
    "\n",
    "Methods:\n",
    "\n",
    "- .writerow(): Expects a list of calues for each row\n",
    "    - Each subsequent call appends row below the latest."
   ]
  },
  {
   "cell_type": "code",
   "execution_count": 11,
   "metadata": {},
   "outputs": [],
   "source": [
    "import csv\n",
    "\n",
    "# Example using the writer() object:\n",
    "\n",
    "with open(\"eggs.csv\", \"w\", newline=\"\") as csvfile:\n",
    "    writer = csv.writer(csvfile, delimiter=' ', quote=\"|\",  quoting=csv.QUOTE_MINIMAL)\n",
    "    writer.writerow([\"Spam\"] * 5 + [\"Baked Beans\"])\n",
    "    writer.writerow([\"Spam\", \"Lovely Spam\", \"Wonderful Spam\"])\n",
    "\n"
   ]
  },
  {
   "cell_type": "markdown",
   "metadata": {},
   "source": [
    "### __A closer look at csv.DictWriter__\n",
    "\n",
    "Constructor look at csv.DictWriter\n",
    "\n",
    "- file: File-like reference to file, which should be opened with newline=\"\".\n",
    "- fieldnames: List of column names for the CSV file.\n",
    "\n",
    "The constructor itself does not write any data to the file!\n",
    "\n",
    "Methods:\n",
    "\n",
    "- .writeheader(): Writes a header_row\n",
    "- .writerow(): Expect a dictionary of values for a row, where each dictionary\n",
    "must have keys matching the fieldnames.\n",
    "    - Each subsequent call appends row below the latest."
   ]
  },
  {
   "cell_type": "code",
   "execution_count": null,
   "metadata": {},
   "outputs": [],
   "source": [
    "import csv\n",
    "\n",
    "# Example using the DictWriter class:\n",
    "\n",
    "with open(\"names.csv\", \"w\", newline=\"\") as csvfile:\n",
    "    fieldnames = [\"first_name\", \"last_name\"]\n",
    "    writer = csv.DictWriter(csvfile, fieldnames=fieldnames)\n",
    "\n",
    "    writer.writeheader()\n",
    "    writer.writerow({\"first_name\": \"Baked\", \"last_name\": \"Beans\"})\n",
    "    writer.writerow({\"first_name\": \"Lovely\", \"last_name\": \"Spam\"})\n",
    "    writer.writerow({\"first_name\": \"Wonderful\", \"last_name\": \"Spam\"})\n"
   ]
  },
  {
   "cell_type": "markdown",
   "metadata": {},
   "source": [
    "---"
   ]
  },
  {
   "cell_type": "markdown",
   "metadata": {},
   "source": [
    "# **EXAMPLES**"
   ]
  },
  {
   "cell_type": "markdown",
   "metadata": {},
   "source": [
    "1. Write a function read_csv that accepts filename as a parameter and prints each line in the file given by filename. <br> Try to use both csv.reader() and csv.DictReader. Create your own CSV files to test, both with and without a header!"
   ]
  },
  {
   "cell_type": "code",
   "execution_count": 2,
   "metadata": {},
   "outputs": [
    {
     "name": "stdout",
     "output_type": "stream",
     "text": [
      "['Name', 'Age', 'Birthdate']\n",
      "['Reodor', '90', '1932-08-08']\n",
      "['Solan', '45', '1965-01-02']\n"
     ]
    }
   ],
   "source": [
    "import csv\n",
    "\n",
    "# Using the csv.reader()\n",
    "def read_csv(filename):\n",
    "    with open(filename, \"r\", newline=\"\") as fp:\n",
    "        reader = csv.reader(fp)\n",
    "        for row in reader:\n",
    "            print(row)\n",
    "\n",
    "read_csv(\"Filer/test.csv\")"
   ]
  },
  {
   "cell_type": "code",
   "execution_count": 3,
   "metadata": {},
   "outputs": [
    {
     "name": "stdout",
     "output_type": "stream",
     "text": [
      "{'Name': 'Reodor', 'Age': '90', 'Birthdate': '1932-08-08'}\n",
      "{'Name': 'Solan', 'Age': '45', 'Birthdate': '1965-01-02'}\n"
     ]
    }
   ],
   "source": [
    "# Using the csv.DictReader\n",
    "def read_csv(filename):\n",
    "    with open(filename, \"r\", newline=\"\") as fp:\n",
    "        reader = csv.DictReader(fp)\n",
    "        for row in reader:\n",
    "            print(row)\n",
    "\n",
    "read_csv(\"Filer/test.csv\")"
   ]
  },
  {
   "cell_type": "markdown",
   "metadata": {},
   "source": [
    "2. Add a parameter n_lines to the function that only prints the n_lines first rows to thefile. If n_lines is None it should print all the lines in the file."
   ]
  },
  {
   "cell_type": "code",
   "execution_count": 11,
   "metadata": {},
   "outputs": [
    {
     "name": "stdout",
     "output_type": "stream",
     "text": [
      "['Reodor', '90', '1932-08-08']\n"
     ]
    }
   ],
   "source": [
    "def read_csv(filename, n_lines=None):\n",
    "    with open(filename, \"r\", newline=\"\") as fp:\n",
    "        reader = csv.reader(fp, delimiter=\",\")\n",
    "        # If we want to skip the first row, since it is the header, we can use the next() function.\n",
    "        next(reader)\n",
    "        for count, row in enumerate(reader):\n",
    "            if n_lines is None or count < n_lines:\n",
    "                print(row)\n",
    "\n",
    "read_csv(\"Filer/test.csv\", 1)\n"
   ]
  },
  {
   "cell_type": "markdown",
   "metadata": {},
   "source": [
    "3. Add a new parameter to the function read_csv named filename_out. If filename_out is not None, the function should write each line to the file specified by filename_out instead of printing it."
   ]
  },
  {
   "cell_type": "code",
   "execution_count": 21,
   "metadata": {},
   "outputs": [
    {
     "name": "stdout",
     "output_type": "stream",
     "text": [
      "[['Reodor', '90', '1932-08-08']]\n"
     ]
    }
   ],
   "source": [
    "def write_csv(rows, filename_out):\n",
    "    with open(filename_out, \"w\") as fp:\n",
    "        writer = csv.writer(fp, delimiter=\",\", lineterminator=\"\\n\")\n",
    "        # Here rows is a list of dicts, so we can use writerows()\n",
    "        # We could also iterate over the rows list and use writer.writerrow(row)\n",
    "        writer.writerows(rows)\n",
    "\n",
    "def read_csv(filename, n_lines=None, filename_out=None):\n",
    "    output = []\n",
    "    with open(\"Filer/test.csv\", \"r\", newline=\"\") as fp:\n",
    "        reader = csv.reader(fp)\n",
    "        next(reader)\n",
    "        for count, row in enumerate(reader):\n",
    "            if n_lines is None or count < n_lines:\n",
    "                output.append(row)\n",
    "        if filename_out:\n",
    "            print(output)\n",
    "            write_csv(output, filename_out)\n",
    "\n",
    "read_csv(\"Filer/test.csv\", 1, \"Filer/new_file.csv\")"
   ]
  },
  {
   "cell_type": "markdown",
   "metadata": {},
   "source": [
    "4. Expand the function to check if the filename_out already exists. If it does, it should append the rows (without the header) to the file instead of overwriting it."
   ]
  },
  {
   "cell_type": "code",
   "execution_count": 30,
   "metadata": {},
   "outputs": [],
   "source": [
    "from os import path\n",
    "\n",
    "def write_csv(rows, filename_out):          \n",
    "    filemode = \"w\" # write                      ##\n",
    "    if path.exists(filename_out):               ## These are the four lines that are modified in this task (4)\n",
    "        filemode = \"a\" # append                 ##\n",
    "    with open(filename_out, filemode) as fp:    ##\n",
    "        writer = csv.writer(fp, delimiter=\",\", lineterminator=\"\\n\")\n",
    "        writer.writerows(rows)\n",
    "\n",
    "def read_csv(filename, n_lines=None, filename_out=None):\n",
    "    rows = []\n",
    "    with open(filename, \"r\") as fp:\n",
    "        reader = csv.reader(fp, delimiter=\",\", lineterminator=\"\\n\")\n",
    "        for row_num, row in enumerate(reader):\n",
    "            if filename is None or row_num < n_lines:\n",
    "                rows.append(row)\n",
    "        if filename_out:\n",
    "            write_csv(rows, filename_out)\n",
    "\n",
    "read_csv(filename=\"Filer/test.csv\", filename_out=\"Filer/new_file.csv\", n_lines=2)\n"
   ]
  },
  {
   "cell_type": "markdown",
   "metadata": {},
   "source": [
    "5. Add a paramter cols to the function read_csv. Cols should be a list of ints that specify the index of the columns that should be included. For instance: read_csv(filename=\"test.csv\", n_lines=10, filename_out=\"out.csv\", cols=[0,2,3]) should only write the first, third and fourth column (remember that we use zero-index in Python)"
   ]
  },
  {
   "cell_type": "code",
   "execution_count": 41,
   "metadata": {},
   "outputs": [],
   "source": [
    "from os import path\n",
    "\n",
    "def write_csv(rows, filename_out, cols):\n",
    "    filemode = \"w\"\n",
    "    if path.exists(filename_out):\n",
    "        filemode = \"a\"\n",
    "\n",
    "\n",
    "# Only include the cols that we care about\n",
    "# We do this by iterating over each row, and then iterating over each column in the row.\n",
    "    if cols:\n",
    "        for i, row in enumerate(rows):\n",
    "            new_row = [row[col] for col in cols] # This could be replaced with a for loop instead.\n",
    "            # Alternative solution with for loop:\n",
    "            # new_row = []\n",
    "            # for col in cols:\n",
    "            #       new_row.append(row[col])\n",
    "\n",
    "            row[i] = new_row\n",
    "\n",
    "    with open(filename_out, filemode) as fp:\n",
    "        writer = csv.writer(fp, delimiter=\",\", lineterminator=\"\\n\")\n",
    "        writer.writerows(rows)\n",
    "\n",
    "def read_csv(filename, n_lines=None, filename_out=None, cols=[]):\n",
    "    rows = []\n",
    "    with open(filename, \"r\", newline=\"\") as fp:\n",
    "        reader = csv.reader(fp, delimiter=\",\", lineterminator=\"\\n\")\n",
    "        for row_num, row in enumerate(reader):\n",
    "            if filename is None or row_num < n_lines:\n",
    "                rows.append(row)\n",
    "        if filename_out:\n",
    "            write_csv(rows, filename_out, cols)\n",
    "\n",
    "read_csv(filename=\"Filer/test.csv\", filename_out=\"Filer/new_file.csv\", n_lines=2, cols=[0,2])\n"
   ]
  },
  {
   "cell_type": "markdown",
   "metadata": {},
   "source": [
    "6. Experimenting with transforming the values of each row. For instance, try adding a column with integers in your CSV and write each integer squared (i.e i*i) to the out CSV. Also try printing the total sum of that integer row."
   ]
  },
  {
   "cell_type": "code",
   "execution_count": null,
   "metadata": {},
   "outputs": [],
   "source": [
    "def transform_int(my_num):\n",
    "    return {\"Num\": str(my_num)}\n",
    "\n",
    "lines = []\n",
    "with open(\"input.csv\", \"r\") as infile:\n",
    "    reader = csv.DictReader(infile)\n",
    "    for row in reader:\n",
    "        # row: {\"Num\": \"1\", \"Garbage\": 25}\n",
    "        try:\n",
    "            my_num = int(row[\"Num\"])\n",
    "        except ValueError as e:\n",
    "            print(\"Could not convert to int.\")\n",
    "        squared = my_num ** 2\n",
    "        to_dict = transform_int(squared)\n",
    "        lines.append(to_dict)\n",
    "    \n",
    "print(lines)"
   ]
  },
  {
   "cell_type": "markdown",
   "metadata": {},
   "source": [
    "7. Add a column \"Date\" to your CSV and fill it with values. Try writing that date as three separate columns \"Year\", \"Month\", and \"Day\" in the out csv."
   ]
  },
  {
   "cell_type": "code",
   "execution_count": 46,
   "metadata": {},
   "outputs": [],
   "source": [
    "from datetime import datetime\n",
    "def read_csv(filename):\n",
    "    rows = []\n",
    "    with open(filename, \"r\") as fp:\n",
    "        reader = csv.DictReader(fp, delimiter=\",\")\n",
    "\n",
    "        for row_num, row in enumerate(reader):\n",
    "            datestr = row[\"Birthdate\"]\n",
    "            dateobj = datetime.strptime(datestr, \"%Y-%m-%d\")\n",
    "            row[\"Day\"] = dateobj.day\n",
    "            row[\"Month\"] = dateobj.month\n",
    "            row[\"Year\"] = dateobj.year\n",
    "            rows.append(row)\n",
    "    return rows\n",
    "\n",
    "def write_csv(rows, filename_out):\n",
    "    with open(filename_out, \"w\") as fp:\n",
    "        writer = csv.DictWriter(fp, fieldnames=rows[0].keys(), lineterminator=\"\\n\")\n",
    "        writer.writeheader()\n",
    "        writer.writerows(rows)\n",
    "\n",
    "out_rows = read_csv(\"Filer/test.csv\")\n",
    "\n",
    "write_csv(out_rows, \"Filer/output_with_dates.csv\")"
   ]
  }
 ],
 "metadata": {
  "kernelspec": {
   "display_name": "Python 3.10.4 64-bit",
   "language": "python",
   "name": "python3"
  },
  "language_info": {
   "codemirror_mode": {
    "name": "ipython",
    "version": 3
   },
   "file_extension": ".py",
   "mimetype": "text/x-python",
   "name": "python",
   "nbconvert_exporter": "python",
   "pygments_lexer": "ipython3",
   "version": "3.10.4"
  },
  "orig_nbformat": 4,
  "vscode": {
   "interpreter": {
    "hash": "26de051ba29f2982a8de78e945f0abaf191376122a1563185a90213a26c5da77"
   }
  }
 },
 "nbformat": 4,
 "nbformat_minor": 2
}
